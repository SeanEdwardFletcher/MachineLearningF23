{
  "cells": [
    {
      "cell_type": "markdown",
      "metadata": {
        "id": "qvnbArKS2tE4"
      },
      "source": [
        "# <center> A Study of Factors related to Hypertension in Adults </center>\n"
      ]
    },
    {
      "cell_type": "markdown",
      "metadata": {
        "id": "xQ1lpaQM2tE7"
      },
      "source": [
        "The objective of this notebook is to show some of the essential steps of a workflow for building predictive models. The notebook provides a few examples of each step and it is only a very thin slice of what a complete analysis would consist of.\n",
        "\n",
        "The workflow includes:\n",
        "1. **Problem Definition**:  A clear definition of the problem enables us to identify the appropriate data to gather and technique(s) to use in order to solve the problem. For many problems this many require background reading, discussion with domain experts, and layered problem specification.\n",
        "2. **Data Gathering**: We have to know which data to use, where to gather them, and how to make them useful to solve our problem. In many cases, data from multiple sources can provide deeper insights.\n",
        "3. **Exploratory Data Analysis**: Exploratory data analysis (EDA) is an approach of performing initial investigations on our data. EDA normally has descriptive nature and uses graphical statistics to discover patterns, to identify anomalies, to test hypothesis, and to check assumptions regarding our data.\n",
        "4. **Data Cleaning and Wrangling**: Raw data are generally incomplete, inconsistent, and contain many errors. Thus, we need to prepare the data for further processing. Data wrangling is the process of cleaning, structuring, and enriching raw data into another format with the intent of making it more appropriate and valuable for a variety of downstream purposes, such as analytics.\n",
        "5. **Data Modelling**:  Data modelling involves selecting and optiming the machine learning models that generate the best predictive performance based on the data we have.\n",
        "6. **Prediction**: Once we have developed the best predictive model, we can deploy it to make predictions.\n",
        "\n"
      ]
    },
    {
      "cell_type": "markdown",
      "metadata": {
        "id": "-PGIDZmp2tE8"
      },
      "source": [
        "# 1.0. Problem Definition"
      ]
    },
    {
      "cell_type": "markdown",
      "metadata": {
        "id": "Rbs-1F0H2tE9"
      },
      "source": [
        "Hypertension is a major public health problem and important area of research due to its high prevalence and being major risk factor for cardiovascular diseases and other complications. To assess the prevalence of hypertension and its associated factors this notebook analyzes the data from the NHANES datasets (https://www.cdc.gov/nchs/nhanes/index.htm)\n",
        "\n",
        "We apply the tools of machine learning to predict the factors that are associated with systolic blood pressure in adults.\n",
        "\n",
        "\n",
        "\n"
      ]
    },
    {
      "cell_type": "markdown",
      "source": [
        "# **Exercise 3a**\n",
        "\n",
        "The problem presented is a regression problem: predict an individual person's systolic blood pressure, the pressure of that person's circulating blood during a heartbeat, based on other known data points. The data is from the NHANES dataset, where in two-year cycles the CDC surveys a representative subset of the US population in order to gain a health and nutritional assessment.\n",
        "\n",
        "\n",
        "The usefulness of this model is questionable for two reasons. The first reason is that measuring a person's blood pressure is cheap, easy, non-invasive, and quick. There is no need to go to the trouble of creating this model because the current solutions are already so simple and widespread. The second reason is that in a majority of healthcare settings it is common for healthcare professionals to measure and record a patients' vital signs at the beginning of a visit. A person's blood pressure is one of those vital signs. This means that a model predicting systolic blood pressure would not be \"useful\" because blood pressure is already a health statistic people have in their medical histories. A prediction is not needed when the actual numbers already exist.\n",
        "\n",
        "\n",
        "That said, using this common statistic for model development in the context of teaching Machine Learning is a fantastic idea. Since it is so prevalent, there is ample data to explore and analyze! Let's get to it!\n"
      ],
      "metadata": {
        "id": "SPqwWJnMe5vf"
      }
    },
    {
      "cell_type": "markdown",
      "metadata": {
        "id": "PbqL6f-J2tE9"
      },
      "source": [
        "# 2.0. Data Gathering and Import\n"
      ]
    },
    {
      "cell_type": "code",
      "execution_count": 1,
      "metadata": {
        "id": "5WawZOIl2tE-"
      },
      "outputs": [],
      "source": [
        "#Before moving to the next section, we need to import all packages required to do the analysis by calling the following:\n",
        "\n",
        "import numpy as np\n",
        "import pandas as pd\n",
        "import matplotlib.pyplot as plt\n",
        "import seaborn as sns\n"
      ]
    },
    {
      "cell_type": "markdown",
      "metadata": {
        "id": "NiVOEG7-2tE_"
      },
      "source": [
        "## 2.1. Gathering and Importing Data"
      ]
    },
    {
      "cell_type": "markdown",
      "metadata": {
        "id": "QaaNfhH52tE_"
      },
      "source": [
        "We import the datasets by calling the following:"
      ]
    },
    {
      "cell_type": "code",
      "execution_count": 2,
      "metadata": {
        "colab": {
          "base_uri": "https://localhost:8080/"
        },
        "id": "lKJ2WgaT2tFA",
        "outputId": "de8e15f3-787c-4a8c-a071-63f4b933885e"
      },
      "outputs": [
        {
          "output_type": "stream",
          "name": "stdout",
          "text": [
            "datasets/nhanes/\n"
          ]
        }
      ],
      "source": [
        "import os\n",
        "import tarfile\n",
        "import urllib\n",
        "\n",
        "DOWNLOAD_ROOT = \"https://wwwn.cdc.gov/Nchs/Nhanes/2017-2018/\"\n",
        "LOCAL_DATA_PATH = os.path.join(\"datasets\", \"nhanes\") + \"/\"\n",
        "FILE_NAME = \"P_DEMO.XPT\"\n",
        "\n",
        "def fetch_nhanes_data(file_name=FILE_NAME, nhanes_url=DOWNLOAD_ROOT,  nhanes_path=LOCAL_DATA_PATH):\n",
        "    os.makedirs(nhanes_path, exist_ok=True)\n",
        "    xpt_path = os.path.join(nhanes_path, file_name)\n",
        "    url = nhanes_url + file_name\n",
        "    urllib.request.urlretrieve(url, xpt_path)\n",
        "\n",
        "print(LOCAL_DATA_PATH)"
      ]
    },
    {
      "cell_type": "code",
      "execution_count": 3,
      "metadata": {
        "id": "T0lPUAHG2tFA"
      },
      "outputs": [],
      "source": [
        "fetch_nhanes_data(\"P_DEMO.XPT\",\"https://wwwn.cdc.gov/Nchs/Nhanes/2017-2018/\",LOCAL_DATA_PATH)\n",
        "fetch_nhanes_data(\"P_BPXO.XPT\",\"https://wwwn.cdc.gov/Nchs/Nhanes/2017-2018/\",LOCAL_DATA_PATH)\n",
        "fetch_nhanes_data(\"P_BMX.XPT\",\"https://wwwn.cdc.gov/Nchs/Nhanes/2017-2018/\",LOCAL_DATA_PATH)\n"
      ]
    },
    {
      "cell_type": "code",
      "source": [
        "# Exercise 3d\n",
        "fetch_nhanes_data(\"P_OHXDEN.XPT\",\"https://wwwn.cdc.gov/Nchs/Nhanes/2017-2018/\",LOCAL_DATA_PATH) #  Oral Health\n"
      ],
      "metadata": {
        "id": "MXNUSiRjpMIQ"
      },
      "execution_count": 4,
      "outputs": []
    },
    {
      "cell_type": "code",
      "execution_count": 5,
      "metadata": {
        "colab": {
          "base_uri": "https://localhost:8080/"
        },
        "id": "RM2hw1MT2tFB",
        "outputId": "c0cd9226-43a9-45b9-ff34-54ff001af1a5"
      },
      "outputs": [
        {
          "output_type": "stream",
          "name": "stdout",
          "text": [
            "P_BMX.XPT  P_BPXO.XPT  P_DEMO.XPT  P_OHXDEN.XPT\n"
          ]
        }
      ],
      "source": [
        "!ls $LOCAL_DATA_PATH"
      ]
    },
    {
      "cell_type": "code",
      "execution_count": null,
      "metadata": {
        "scrolled": true,
        "id": "OjifGckm2tFB"
      },
      "outputs": [],
      "source": [
        "demo_df = pd.read_sas(LOCAL_DATA_PATH + \"P_DEMO.XPT\")\n",
        "bmx_df = pd.read_sas(LOCAL_DATA_PATH + \"P_BMX.XPT\")\n",
        "bpxo_df = pd.read_sas(LOCAL_DATA_PATH + \"P_BPXO.XPT\")\n",
        "\n",
        "# added\n",
        "ohxden_df = pd.read_sas(LOCAL_DATA_PATH + \"P_OHXDEN.XPT\") #  Oral Health"
      ]
    },
    {
      "cell_type": "markdown",
      "metadata": {
        "id": "luNz5OUz2tFB"
      },
      "source": [
        "## 2.2. Exploring Data Structure and Features\n",
        "Before performing data analysis, we often need to know the structure of our data. Therefore, we perform the following:\n",
        "- Viewing a small part of our datasets\n",
        "- Viewing data shape\n",
        "- Describing the features contained in the datasets\n"
      ]
    },
    {
      "cell_type": "code",
      "source": [
        "ohxden_df.head(20)"
      ],
      "metadata": {
        "id": "NnakTFsRCTPd"
      },
      "execution_count": null,
      "outputs": []
    },
    {
      "cell_type": "code",
      "source": [
        "ohxden_df.shape"
      ],
      "metadata": {
        "colab": {
          "base_uri": "https://localhost:8080/"
        },
        "id": "LnlTlJ69uOn6",
        "outputId": "4da4a25c-02e3-4d70-cc7a-2cb99655ee9c"
      },
      "execution_count": 9,
      "outputs": [
        {
          "output_type": "execute_result",
          "data": {
            "text/plain": [
              "(13772, 170)"
            ]
          },
          "metadata": {},
          "execution_count": 9
        }
      ]
    },
    {
      "cell_type": "code",
      "source": [
        "bmx_df.shape"
      ],
      "metadata": {
        "colab": {
          "base_uri": "https://localhost:8080/"
        },
        "id": "yhTAH3H4uOwZ",
        "outputId": "5fca6085-213a-4f1c-f903-68b50d0959d5"
      },
      "execution_count": 10,
      "outputs": [
        {
          "output_type": "execute_result",
          "data": {
            "text/plain": [
              "(14300, 22)"
            ]
          },
          "metadata": {},
          "execution_count": 10
        }
      ]
    },
    {
      "cell_type": "code",
      "source": [
        "demo_df.shape"
      ],
      "metadata": {
        "colab": {
          "base_uri": "https://localhost:8080/"
        },
        "id": "dR-iQjibuO4M",
        "outputId": "75236885-b673-41f7-ab4a-213a7a46d9bf"
      },
      "execution_count": 11,
      "outputs": [
        {
          "output_type": "execute_result",
          "data": {
            "text/plain": [
              "(15560, 29)"
            ]
          },
          "metadata": {},
          "execution_count": 11
        }
      ]
    },
    {
      "cell_type": "code",
      "source": [
        "bmx_df.head()"
      ],
      "metadata": {
        "id": "Sha4t-QLEdrH"
      },
      "execution_count": null,
      "outputs": []
    },
    {
      "cell_type": "code",
      "execution_count": null,
      "metadata": {
        "id": "JGGRz1ov2tFB"
      },
      "outputs": [],
      "source": [
        "bmx_df.info()"
      ]
    },
    {
      "cell_type": "code",
      "execution_count": null,
      "metadata": {
        "id": "SnGL84pc2tFB"
      },
      "outputs": [],
      "source": [
        "demo_df.head()"
      ]
    },
    {
      "cell_type": "code",
      "execution_count": null,
      "metadata": {
        "id": "TC695VRd2tFC"
      },
      "outputs": [],
      "source": [
        "bpxo_df.describe()"
      ]
    },
    {
      "cell_type": "markdown",
      "metadata": {
        "id": "p-VeIEmw2tFC"
      },
      "source": [
        "### Keep only the columns that will be used in the analysis"
      ]
    },
    {
      "cell_type": "markdown",
      "source": [
        "**Exercise 3b and Exercise 3c**\n",
        "\n",
        "New catagorical variables added:\n",
        "\n",
        "**'RIDRETH1'** from demo_df - Recode of reported race and Hispanic origin information\n",
        "**'OHXRCAR'** and **'OHXRCARO'** from ohxden_df - Root Caries and Other non-carious root lesions in the mouth.\n",
        "\n",
        "New numerical fields added:\n",
        "\n",
        "**'BPXODI1', 'BPXODI2', and 'BPXODI3'** from bpxo_df - diastolic pressure measurments.\n",
        "\n",
        "**'INDFMPIR'** from demo_df-  A ratio of family income to poverty guidelines; a float between the values 0 and 5 (inclusive)\n",
        "\n",
        "\n",
        "** notes on my choices:\n",
        "\n",
        "RIDRETH1 was chosen because anecdotally I have heard that race is corrolated with various health risks.\n",
        "\n",
        "OHXRCAR and OHXRCARO were chosen because I have learned through previous work experience that oral health is very much connected with a person's overall health.\n",
        "\n",
        "INDFMPIR was chosen because anecdotally I have heard that socio economic status plays a very large role in a variety of health risks\n",
        "\n",
        "The diastolic pressure readings were chosen because I believe that they have a  corrolation with systolic pressure. I actually feel like using them is almost \"cheating\" because of how corrolated I feel they are. It'll be fun for this assignment regardless.\n",
        "\n",
        "\n"
      ],
      "metadata": {
        "id": "sYr1gHE3yNdP"
      }
    },
    {
      "cell_type": "code",
      "execution_count": 7,
      "metadata": {
        "colab": {
          "base_uri": "https://localhost:8080/"
        },
        "id": "mYugPWmS2tFC",
        "outputId": "6178e8b6-7163-421a-9731-5a8808426f72"
      },
      "outputs": [
        {
          "output_type": "stream",
          "name": "stdout",
          "text": [
            "<class 'pandas.core.frame.DataFrame'>\n",
            "RangeIndex: 15560 entries, 0 to 15559\n",
            "Data columns (total 6 columns):\n",
            " #   Column    Non-Null Count  Dtype  \n",
            "---  ------    --------------  -----  \n",
            " 0   SEQN      15560 non-null  float64\n",
            " 1   RIAGENDR  15560 non-null  float64\n",
            " 2   RIDAGEYR  15560 non-null  float64\n",
            " 3   DMDEDUC2  9232 non-null   float64\n",
            " 4   INDFMPIR  13359 non-null  float64\n",
            " 5   RIDRETH1  15560 non-null  float64\n",
            "dtypes: float64(6)\n",
            "memory usage: 729.5 KB\n"
          ]
        }
      ],
      "source": [
        "keep_columns = ['SEQN','RIAGENDR','RIDAGEYR','DMDEDUC2', 'INDFMPIR', 'RIDRETH1']\n",
        "demo_sub_df = demo_df[keep_columns]\n",
        "demo_sub_df.info()"
      ]
    },
    {
      "cell_type": "code",
      "execution_count": 8,
      "metadata": {
        "colab": {
          "base_uri": "https://localhost:8080/"
        },
        "id": "cY6r1k1e2tFC",
        "outputId": "c8c350a2-abb2-4efc-96ee-a420ab170d49"
      },
      "outputs": [
        {
          "output_type": "stream",
          "name": "stdout",
          "text": [
            "<class 'pandas.core.frame.DataFrame'>\n",
            "RangeIndex: 11656 entries, 0 to 11655\n",
            "Data columns (total 7 columns):\n",
            " #   Column   Non-Null Count  Dtype  \n",
            "---  ------   --------------  -----  \n",
            " 0   SEQN     11656 non-null  float64\n",
            " 1   BPXOSY1  10352 non-null  float64\n",
            " 2   BPXOSY2  10327 non-null  float64\n",
            " 3   BPXOSY3  10286 non-null  float64\n",
            " 4   BPXODI1  10352 non-null  float64\n",
            " 5   BPXODI2  10327 non-null  float64\n",
            " 6   BPXODI3  10286 non-null  float64\n",
            "dtypes: float64(7)\n",
            "memory usage: 637.6 KB\n"
          ]
        }
      ],
      "source": [
        "keep_columns = ['SEQN', 'BPXOSY1', 'BPXOSY2', 'BPXOSY3', 'BPXODI1', 'BPXODI2', 'BPXODI3']\n",
        "bpxo_sub_df = bpxo_df[keep_columns]\n",
        "bpxo_sub_df.info()"
      ]
    },
    {
      "cell_type": "code",
      "execution_count": 9,
      "metadata": {
        "colab": {
          "base_uri": "https://localhost:8080/"
        },
        "id": "5e9h-q9B2tFC",
        "outputId": "9a0f8c73-9d26-4b77-b7af-3025ba7c856a"
      },
      "outputs": [
        {
          "output_type": "stream",
          "name": "stdout",
          "text": [
            "<class 'pandas.core.frame.DataFrame'>\n",
            "RangeIndex: 14300 entries, 0 to 14299\n",
            "Data columns (total 4 columns):\n",
            " #   Column  Non-Null Count  Dtype  \n",
            "---  ------  --------------  -----  \n",
            " 0   SEQN    14300 non-null  float64\n",
            " 1   BMXWT   14075 non-null  float64\n",
            " 2   BMXHT   13157 non-null  float64\n",
            " 3   BMXBMI  13137 non-null  float64\n",
            "dtypes: float64(4)\n",
            "memory usage: 447.0 KB\n"
          ]
        }
      ],
      "source": [
        "keep_columns= ['SEQN','BMXWT','BMXHT','BMXBMI']\n",
        "bmx_sub_df = bmx_df[keep_columns]\n",
        "bmx_sub_df.info()"
      ]
    },
    {
      "cell_type": "code",
      "source": [
        "keep_columns = ['SEQN', 'OHXRCAR', 'OHXRCARO']  # OHXRCARO\n",
        "ohxden_sub_df = ohxden_df[keep_columns]\n",
        "ohxden_sub_df.info()"
      ],
      "metadata": {
        "colab": {
          "base_uri": "https://localhost:8080/"
        },
        "id": "3fb_Rw8jwJBr",
        "outputId": "25daa093-2b15-48c0-e90d-ab9963707221"
      },
      "execution_count": 10,
      "outputs": [
        {
          "output_type": "stream",
          "name": "stdout",
          "text": [
            "<class 'pandas.core.frame.DataFrame'>\n",
            "RangeIndex: 13772 entries, 0 to 13771\n",
            "Data columns (total 3 columns):\n",
            " #   Column    Non-Null Count  Dtype  \n",
            "---  ------    --------------  -----  \n",
            " 0   SEQN      13772 non-null  float64\n",
            " 1   OHXRCAR   8008 non-null   float64\n",
            " 2   OHXRCARO  8008 non-null   float64\n",
            "dtypes: float64(3)\n",
            "memory usage: 322.9 KB\n"
          ]
        }
      ]
    },
    {
      "cell_type": "markdown",
      "metadata": {
        "id": "8fDmLTtY2tFD"
      },
      "source": [
        "### Merge the datatables into a single table"
      ]
    },
    {
      "cell_type": "code",
      "execution_count": 11,
      "metadata": {
        "colab": {
          "base_uri": "https://localhost:8080/"
        },
        "id": "Yq33DDTv2tFD",
        "outputId": "ea4f667e-ac2a-410d-a4c7-1b9d17bde1b7"
      },
      "outputs": [
        {
          "output_type": "execute_result",
          "data": {
            "text/plain": [
              "(11656, 17)"
            ]
          },
          "metadata": {},
          "execution_count": 11
        }
      ],
      "source": [
        "hp_df = demo_sub_df.merge(bpxo_sub_df, how='inner', on='SEQN')\n",
        "hp_df = hp_df.merge(bmx_sub_df,how=\"inner\", on='SEQN')\n",
        "hp_df = hp_df.merge(ohxden_sub_df, how=\"inner\", on='SEQN')\n",
        "hp_df.shape"
      ]
    },
    {
      "cell_type": "code",
      "execution_count": 32,
      "metadata": {
        "scrolled": true,
        "colab": {
          "base_uri": "https://localhost:8080/"
        },
        "id": "2bQrXV0z2tFD",
        "outputId": "5663b65a-bd40-4d83-9b59-24a834654860"
      },
      "outputs": [
        {
          "output_type": "stream",
          "name": "stdout",
          "text": [
            "<class 'pandas.core.frame.DataFrame'>\n",
            "Int64Index: 11656 entries, 0 to 11655\n",
            "Data columns (total 17 columns):\n",
            " #   Column    Non-Null Count  Dtype  \n",
            "---  ------    --------------  -----  \n",
            " 0   SEQN      11656 non-null  float64\n",
            " 1   RIAGENDR  11656 non-null  float64\n",
            " 2   RIDAGEYR  11656 non-null  float64\n",
            " 3   DMDEDUC2  8544 non-null   float64\n",
            " 4   INDFMPIR  10110 non-null  float64\n",
            " 5   RIDRETH1  11656 non-null  float64\n",
            " 6   BPXOSY1   10352 non-null  float64\n",
            " 7   BPXOSY2   10327 non-null  float64\n",
            " 8   BPXOSY3   10286 non-null  float64\n",
            " 9   BPXODI1   10352 non-null  float64\n",
            " 10  BPXODI2   10327 non-null  float64\n",
            " 11  BPXODI3   10286 non-null  float64\n",
            " 12  BMXWT     11470 non-null  float64\n",
            " 13  BMXHT     11462 non-null  float64\n",
            " 14  BMXBMI    11446 non-null  float64\n",
            " 15  OHXRCAR   8008 non-null   float64\n",
            " 16  OHXRCARO  8008 non-null   float64\n",
            "dtypes: float64(17)\n",
            "memory usage: 1.6 MB\n"
          ]
        }
      ],
      "source": [
        "# Note the missing values\n",
        "hp_df.info()"
      ]
    },
    {
      "cell_type": "markdown",
      "metadata": {
        "id": "SdSHk8rD2tFD"
      },
      "source": [
        "# 3.0 Exploratory Data Analysis"
      ]
    },
    {
      "cell_type": "code",
      "execution_count": null,
      "metadata": {
        "scrolled": true,
        "id": "T4KAoSui2tFD"
      },
      "outputs": [],
      "source": [
        "hp_df.hist(bins=50, figsize=(20,15))\n",
        "plt.show()"
      ]
    },
    {
      "cell_type": "code",
      "execution_count": 12,
      "metadata": {
        "scrolled": true,
        "colab": {
          "base_uri": "https://localhost:8080/"
        },
        "id": "zlVvGs8O2tFD",
        "outputId": "4387a77b-0684-4177-a219-0d9e5bc89887"
      },
      "outputs": [
        {
          "output_type": "execute_result",
          "data": {
            "text/plain": [
              "BPXOSY1     1.000000\n",
              "BPXOSY2     0.950386\n",
              "BPXOSY3     0.939808\n",
              "BPXODI1     0.674561\n",
              "BPXODI2     0.637523\n",
              "BPXODI3     0.626704\n",
              "RIDAGEYR    0.576196\n",
              "BMXWT       0.254004\n",
              "BMXHT       0.250672\n",
              "BMXBMI      0.208298\n",
              "RIDRETH1    0.048302\n",
              "INDFMPIR    0.014652\n",
              "SEQN       -0.014743\n",
              "OHXRCAR    -0.094349\n",
              "RIAGENDR   -0.121924\n",
              "DMDEDUC2   -0.129074\n",
              "OHXRCARO   -0.133260\n",
              "Name: BPXOSY1, dtype: float64"
            ]
          },
          "metadata": {},
          "execution_count": 12
        }
      ],
      "source": [
        "#hp_sub_df = hp_df[['BMXBMI','BPXOSY', 'RIAGENDR','BMXWT','BMXHT','RIDAGEYR']]\n",
        "corr_matrix = hp_df.corr()\n",
        "corr_matrix[\"BPXOSY1\"].sort_values(ascending=False)"
      ]
    },
    {
      "cell_type": "code",
      "execution_count": 13,
      "metadata": {
        "scrolled": true,
        "colab": {
          "base_uri": "https://localhost:8080/"
        },
        "id": "hznRLyvN2tFD",
        "outputId": "bc71cb0c-3cfe-4bfc-fd47-dfbb3c6b07c5"
      },
      "outputs": [
        {
          "output_type": "execute_result",
          "data": {
            "text/plain": [
              "SEQN           0\n",
              "RIAGENDR       0\n",
              "RIDAGEYR       0\n",
              "DMDEDUC2    3112\n",
              "INDFMPIR    1546\n",
              "RIDRETH1       0\n",
              "BPXOSY1     1304\n",
              "BPXOSY2     1329\n",
              "BPXOSY3     1370\n",
              "BPXODI1     1304\n",
              "BPXODI2     1329\n",
              "BPXODI3     1370\n",
              "BMXWT        186\n",
              "BMXHT        194\n",
              "BMXBMI       210\n",
              "OHXRCAR     3648\n",
              "OHXRCARO    3648\n",
              "dtype: int64"
            ]
          },
          "metadata": {},
          "execution_count": 13
        }
      ],
      "source": [
        "hp_df.isnull().sum()"
      ]
    },
    {
      "cell_type": "code",
      "execution_count": 38,
      "metadata": {
        "id": "wlftu75T2tFE"
      },
      "outputs": [],
      "source": [
        "# feat_desc = pd.DataFrame({'Description': ['Respondent Sequence Number',\n",
        "#                                           'The gender of the passenger',\n",
        "#                                           'Age in years at screening',\n",
        "#                                           'The Education Level Adults 20+',\n",
        "#                                           'Systolic 1st Oscillometric reading',\n",
        "#                                           'Systolic 2nd Oscillometric reading',\n",
        "#                                           'Systolic 3rd Oscillometric reading',\n",
        "#                                           'Weight (Kg)',\n",
        "#                                           'Standing Height (cm)',\n",
        "#                                           'Body Mass Index (Kg/m**2)'],\n",
        "#                           'Values': [hp_df[i].unique() for i in hp_df.columns],\n",
        "#                           'Number of unique values': [len(hp_df[i].unique()) for i in hp_df.columns]},\n",
        "#                           index = hp_df.columns)\n",
        "\n",
        "# feat_desc"
      ]
    },
    {
      "cell_type": "code",
      "execution_count": null,
      "metadata": {
        "id": "BnaED69F2tFE"
      },
      "outputs": [],
      "source": [
        "plt.figure(figsize=(13,10))\n",
        "\n",
        "hp_df['age_groups'] = pd.cut(hp_df['RIDAGEYR'], bins=range(20,90,8))\n",
        "\n",
        "# Creating a bar chart of ticket class (Pclass) vs probability of survival (Survived)\n",
        "ax1 = plt.subplot(221)\n",
        "g1 = sns.barplot(x='age_groups', y='BPXOSY2', data=hp_df, color='seagreen')\n",
        "plt.ylabel('Systolic Pressure')\n",
        "plt.xlabel('Age')\n",
        "plt.title('Age and Systolic Pressure', size=13)\n",
        "\n",
        "hp_df = hp_df.drop('age_groups', axis=1)\n",
        "# Creating a bar chart of ticket class (Pclass) and gender (Sex) vs probability of survival (Survived)\n",
        "ax2 = plt.subplot(222)\n",
        "g2 = sns.barplot(x='RIAGENDR', y='BPXOSY2', data=hp_df, palette='BuGn_r')\n",
        "plt.ylabel('Systolic Pressure')\n",
        "plt.xlabel('Gender')\n",
        "ax2.set_xticklabels(['Male', 'Female'])\n",
        "plt.title('Gender and Systolic Pressure', size=13)\n",
        "\n",
        "\n",
        "plt.subplots_adjust(hspace = 0.4, wspace = 0.3)\n",
        "\n",
        "plt.show()"
      ]
    },
    {
      "cell_type": "markdown",
      "source": [
        "**Exercise 3f**\n",
        "\n",
        "Using the graphs you provided to look at the new data I added was very helpful.\n",
        "\n",
        "Specifically:\n",
        "\n",
        "* the hist() of INDFMPIR. Now I see that I should probably chop off the 5s.\n",
        "\n",
        "\n",
        "* the corolation matrix shows me that yes there is a corolation between systolic and diastolic pressure.\n",
        "\n",
        "\n",
        "* the corolation matrix shows me that yes there is a corolation (a weak negative one) between systolic pressure and oral health. I think the corrolation is negative because of how the labels are currently being interpreted. After some cleaning I think it'll be positive, and maybe stronger when I one-hot encode it the way I'm currently thinking.\n",
        "\n",
        "\n",
        "In addition to using the graphs YOU provided, here are graphs showing the corolation between systolic pressure and weight and height: (it seems like there isn't much corrolation between weight and blood pressure? That is the opposite of what I was expecting.)\n"
      ],
      "metadata": {
        "id": "recEJFFq994e"
      }
    },
    {
      "cell_type": "code",
      "source": [
        "hp_df['BMXHT'].head(10)"
      ],
      "metadata": {
        "id": "HuTwmHo5DH_T"
      },
      "execution_count": null,
      "outputs": []
    },
    {
      "cell_type": "code",
      "source": [
        "plt.figure(figsize=(13,10))\n",
        "\n",
        "hp_df['weight_groups'] = pd.cut(hp_df['BMXWT'], bins=range(50,300,50))\n",
        "\n",
        "# Creating a bar chart of ticket class (Pclass) vs probability of survival (Survived)\n",
        "ax1 = plt.subplot(221)\n",
        "g1 = sns.barplot(x='weight_groups', y='BPXOSY2', data=hp_df, color='seagreen')\n",
        "plt.ylabel('Systolic Pressure')\n",
        "plt.xlabel('weight')\n",
        "plt.title('weight and Systolic Pressure', size=13)\n",
        "\n",
        "hp_df = hp_df.drop('weight_groups', axis=1)\n",
        "# Creating a bar chart of ticket class (Pclass) and gender (Sex) vs probability of survival (Survived)\n",
        "hp_df['height_groups'] = pd.cut(hp_df['BMXHT'], bins=range(120,220,10))\n",
        "\n",
        "# Creating a bar chart of ticket class (Pclass) vs probability of survival (Survived)\n",
        "ax1 = plt.subplot(222)\n",
        "g1 = sns.barplot(x='height_groups', y='BPXOSY2', data=hp_df, color='seagreen')\n",
        "plt.ylabel('Systolic Pressure')\n",
        "plt.xlabel('height')\n",
        "plt.title('height and Systolic Pressure', size=13)\n",
        "\n",
        "plt.subplots_adjust(hspace = 0.4, wspace = 0.3)\n",
        "\n",
        "plt.show()"
      ],
      "metadata": {
        "colab": {
          "base_uri": "https://localhost:8080/",
          "height": 460
        },
        "id": "5gvCE_z2-EP2",
        "outputId": "027d397b-9566-4a0c-97b8-f171c47b5583"
      },
      "execution_count": 15,
      "outputs": [
        {
          "output_type": "stream",
          "name": "stderr",
          "text": [
            "/usr/local/lib/python3.10/dist-packages/seaborn/algorithms.py:98: RuntimeWarning: Mean of empty slice\n",
            "  boot_dist.append(f(*sample, **func_kwargs))\n"
          ]
        },
        {
          "output_type": "display_data",
          "data": {
            "text/plain": [
              "<Figure size 1300x1000 with 2 Axes>"
            ],
            "image/png": "[encoded data removed]"
          },
          "metadata": {}
        }
      ]
    },
    {
      "cell_type": "code",
      "source": [
        "hp_df = hp_df.drop('height_groups', axis=1)"
      ],
      "metadata": {
        "id": "ivY0LH7Nl1Mt"
      },
      "execution_count": 27,
      "outputs": []
    },
    {
      "cell_type": "markdown",
      "metadata": {
        "id": "aFQ4Aja12tFE"
      },
      "source": [
        "# 4.0 Data Cleaning and Wrangling"
      ]
    },
    {
      "cell_type": "markdown",
      "metadata": {
        "id": "kjK_pK122tFE"
      },
      "source": [
        "### We do some of the cleaning and attribute adding now before the split"
      ]
    },
    {
      "cell_type": "code",
      "source": [],
      "metadata": {
        "id": "Pv6mJWLeuCOn"
      },
      "execution_count": 93,
      "outputs": []
    },
    {
      "cell_type": "markdown",
      "source": [
        "**Exercise 3g**\n",
        "\n",
        "Here I made it so the available bp numbers are averaged together and those values are saved in seperate columns. I edited bp_add_attributes() so that this happens for both Systolic and Diastolic readings.\n",
        "\n",
        "Here I also cut off the rows where the INDFMPIR values were above 5. In the no_rich_people() function.\n",
        "\n",
        "I added a drop_sbp_NaNs() function to remove all rows with Nan values in BPXOSY\n",
        "\n",
        "Here I also drop all the rows with missing values in the Oral Health data OHXRCAR and OHXRCARO using the function oral_health_cleaning()"
      ],
      "metadata": {
        "id": "-YXUMHYa_qML"
      }
    },
    {
      "cell_type": "code",
      "execution_count": 94,
      "metadata": {
        "id": "zthf6v142tFE"
      },
      "outputs": [],
      "source": [
        "def bp_add_attributes(hp_df):\n",
        "  # finding and averaging the available bp data, and saving those values into new columns\n",
        "  # BPXOSY is for systoli bp data\n",
        "  # BPXODI is for diastolic data\n",
        "    if 'BPXOSY' not in hp_df.columns:\n",
        "         hp_df['BPXOSY']=  hp_df[['BPXOSY1', 'BPXOSY2', 'BPXOSY3']].mean(axis=1, skipna=True)\n",
        "    if 'BPXODI' not in hp_df.columns:\n",
        "         hp_df['BPXODI']=  hp_df[['BPXODI1', 'BPXODI2', 'BPXODI3']].mean(axis=1, skipna=True)\n",
        "\n",
        "    return hp_df"
      ]
    },
    {
      "cell_type": "code",
      "execution_count": 95,
      "metadata": {
        "id": "2XX1TQXu2tFE"
      },
      "outputs": [],
      "source": [
        "def bp_trim_rows(hp_df):\n",
        "    # We are only interested in adults, so let's drop all individuals with an age less than 20\n",
        "    hp_df = hp_df[hp_df['RIDAGEYR'] >= 20]\n",
        "    return hp_df"
      ]
    },
    {
      "cell_type": "code",
      "source": [
        "def drop_sbp_NaNs(hp_df):\n",
        "   hp_df = hp_df.dropna(subset=['BPXOSY'])  # dropping all NaN from the labels\n",
        "   return hp_df"
      ],
      "metadata": {
        "id": "5lqNOLr_t47c"
      },
      "execution_count": 96,
      "outputs": []
    },
    {
      "cell_type": "code",
      "execution_count": 97,
      "metadata": {
        "id": "Ouw8DrJy2tFF"
      },
      "outputs": [],
      "source": [
        "def bp_drop_columns(hp_df):\n",
        "    # We do not need the seqn now (only needed for the merge)\n",
        "    if 'SEQN' in hp_df.columns:\n",
        "        hp_df = hp_df.drop(\"SEQN\",axis=1)\n",
        "    # the bp numbers have been averaged\n",
        "    if 'BPXOSY1' in hp_df.columns:\n",
        "        hp_df = hp_df.drop('BPXOSY1',axis=1)\n",
        "    if 'BPXOSY2' in hp_df.columns:\n",
        "        hp_df = hp_df.drop('BPXOSY2',axis=1)\n",
        "    if 'BPXOSY3' in hp_df.columns:\n",
        "        hp_df = hp_df.drop(\"BPXOSY3\",axis=1)\n",
        "    if 'BPXODI1' in hp_df.columns:\n",
        "        hp_df = hp_df.drop('BPXODI1',axis=1)\n",
        "    if 'BPXODI2' in hp_df.columns:\n",
        "        hp_df = hp_df.drop('BPXODI2',axis=1)\n",
        "    if 'BPXODI3' in hp_df.columns:\n",
        "        hp_df = hp_df.drop(\"BPXODI3\",axis=1)\n",
        "\n",
        "    return hp_df\n"
      ]
    },
    {
      "cell_type": "code",
      "execution_count": 98,
      "metadata": {
        "id": "pCxav05G2tFF"
      },
      "outputs": [],
      "source": [
        "def bp_add_trim_drop(hp_df):\n",
        "    hp_df = bp_trim_rows(hp_df)\n",
        "    hp_df = bp_add_attributes(hp_df)\n",
        "    hp_df = bp_drop_columns(hp_df)\n",
        "    hp_df = drop_sbp_NaNs(hp_df)\n",
        "\n",
        "    return hp_df"
      ]
    },
    {
      "cell_type": "code",
      "source": [
        "def no_rich_people(hp_df):\n",
        "  # this is going to cut off participants whose income is 5 times the povberty line or greater.\n",
        "  # The data caps the catagory at 5 time the poverty line and lumps everyone above that into 5.\n",
        "  # I feel a little weird about doing this because that's almost 2000 data points...\n",
        "  # but they're all lumped together in one big column, so I don't think I have a choice here..\n",
        "  # I think that if I weren't crunched for time I would try and find different data to add\n",
        "  hp_df = hp_df[hp_df['INDFMPIR'] < 5]\n",
        "  return hp_df"
      ],
      "metadata": {
        "id": "N5K7RdjpK5i1"
      },
      "execution_count": 99,
      "outputs": []
    },
    {
      "cell_type": "code",
      "execution_count": 100,
      "metadata": {
        "colab": {
          "base_uri": "https://localhost:8080/",
          "height": 206
        },
        "id": "LxVkqUbu2tFF",
        "outputId": "23f159f3-117d-47b2-a2b2-0c5a3e6d49d2"
      },
      "outputs": [
        {
          "output_type": "execute_result",
          "data": {
            "text/plain": [
              "    RIAGENDR  RIDAGEYR  DMDEDUC2  INDFMPIR  RIDRETH1  BMXWT  BMXHT  BMXBMI  \\\n",
              "4        1.0      36.0       4.0      0.83       3.0   74.3  184.2    21.9   \n",
              "8        1.0      76.0       5.0      3.61       3.0   83.3  177.1    26.6   \n",
              "15       1.0      58.0       3.0      1.60       2.0   86.0  167.8    30.5   \n",
              "16       1.0      44.0       3.0      0.02       3.0   99.4  181.6    30.1   \n",
              "26       1.0      47.0       1.0      1.38       5.0   67.9  166.2    24.6   \n",
              "\n",
              "    OHXRCAR  OHXRCARO      BPXOSY     BPXODI  \n",
              "4       2.0       2.0  113.666667  67.333333  \n",
              "8       2.0       2.0  139.333333  72.666667  \n",
              "15      2.0       2.0  138.000000  97.000000  \n",
              "16      1.0       2.0  128.666667  83.666667  \n",
              "26      1.0       1.0  115.000000  68.333333  "
            ],
            "text/html": [
              "\n",
              "  <div id=\"df-876250a4-c7d0-4ead-8983-6270fcf5e823\" class=\"colab-df-container\">\n",
              "    <div>\n",
              "<style scoped>\n",
              "    .dataframe tbody tr th:only-of-type {\n",
              "        vertical-align: middle;\n",
              "    }\n",
              "\n",
              "    .dataframe tbody tr th {\n",
              "        vertical-align: top;\n",
              "    }\n",
              "\n",
              "    .dataframe thead th {\n",
              "        text-align: right;\n",
              "    }\n",
              "</style>\n",
              "<table border=\"1\" class=\"dataframe\">\n",
              "  <thead>\n",
              "    <tr style=\"text-align: right;\">\n",
              "      <th></th>\n",
              "      <th>RIAGENDR</th>\n",
              "      <th>RIDAGEYR</th>\n",
              "      <th>DMDEDUC2</th>\n",
              "      <th>INDFMPIR</th>\n",
              "      <th>RIDRETH1</th>\n",
              "      <th>BMXWT</th>\n",
              "      <th>BMXHT</th>\n",
              "      <th>BMXBMI</th>\n",
              "      <th>OHXRCAR</th>\n",
              "      <th>OHXRCARO</th>\n",
              "      <th>BPXOSY</th>\n",
              "      <th>BPXODI</th>\n",
              "    </tr>\n",
              "  </thead>\n",
              "  <tbody>\n",
              "    <tr>\n",
              "      <th>4</th>\n",
              "      <td>1.0</td>\n",
              "      <td>36.0</td>\n",
              "      <td>4.0</td>\n",
              "      <td>0.83</td>\n",
              "      <td>3.0</td>\n",
              "      <td>74.3</td>\n",
              "      <td>184.2</td>\n",
              "      <td>21.9</td>\n",
              "      <td>2.0</td>\n",
              "      <td>2.0</td>\n",
              "      <td>113.666667</td>\n",
              "      <td>67.333333</td>\n",
              "    </tr>\n",
              "    <tr>\n",
              "      <th>8</th>\n",
              "      <td>1.0</td>\n",
              "      <td>76.0</td>\n",
              "      <td>5.0</td>\n",
              "      <td>3.61</td>\n",
              "      <td>3.0</td>\n",
              "      <td>83.3</td>\n",
              "      <td>177.1</td>\n",
              "      <td>26.6</td>\n",
              "      <td>2.0</td>\n",
              "      <td>2.0</td>\n",
              "      <td>139.333333</td>\n",
              "      <td>72.666667</td>\n",
              "    </tr>\n",
              "    <tr>\n",
              "      <th>15</th>\n",
              "      <td>1.0</td>\n",
              "      <td>58.0</td>\n",
              "      <td>3.0</td>\n",
              "      <td>1.60</td>\n",
              "      <td>2.0</td>\n",
              "      <td>86.0</td>\n",
              "      <td>167.8</td>\n",
              "      <td>30.5</td>\n",
              "      <td>2.0</td>\n",
              "      <td>2.0</td>\n",
              "      <td>138.000000</td>\n",
              "      <td>97.000000</td>\n",
              "    </tr>\n",
              "    <tr>\n",
              "      <th>16</th>\n",
              "      <td>1.0</td>\n",
              "      <td>44.0</td>\n",
              "      <td>3.0</td>\n",
              "      <td>0.02</td>\n",
              "      <td>3.0</td>\n",
              "      <td>99.4</td>\n",
              "      <td>181.6</td>\n",
              "      <td>30.1</td>\n",
              "      <td>1.0</td>\n",
              "      <td>2.0</td>\n",
              "      <td>128.666667</td>\n",
              "      <td>83.666667</td>\n",
              "    </tr>\n",
              "    <tr>\n",
              "      <th>26</th>\n",
              "      <td>1.0</td>\n",
              "      <td>47.0</td>\n",
              "      <td>1.0</td>\n",
              "      <td>1.38</td>\n",
              "      <td>5.0</td>\n",
              "      <td>67.9</td>\n",
              "      <td>166.2</td>\n",
              "      <td>24.6</td>\n",
              "      <td>1.0</td>\n",
              "      <td>1.0</td>\n",
              "      <td>115.000000</td>\n",
              "      <td>68.333333</td>\n",
              "    </tr>\n",
              "  </tbody>\n",
              "</table>\n",
              "</div>\n",
              "    <div class=\"colab-df-buttons\">\n",
              "\n",
              "  <div class=\"colab-df-container\">\n",
              "    <button class=\"colab-df-convert\" onclick=\"convertToInteractive('df-876250a4-c7d0-4ead-8983-6270fcf5e823')\"\n",
              "            title=\"Convert this dataframe to an interactive table.\"\n",
              "            style=\"display:none;\">\n",
              "\n",
              "  <svg xmlns=\"http://www.w3.org/2000/svg\" height=\"24px\" viewBox=\"0 -960 960 960\">\n",
              "    <path d=\"M120-120v-720h720v720H120Zm60-500h600v-160H180v160Zm220 220h160v-160H400v160Zm0 220h160v-160H400v160ZM180-400h160v-160H180v160Zm440 0h160v-160H620v160ZM180-180h160v-160H180v160Zm440 0h160v-160H620v160Z\"/>\n",
              "  </svg>\n",
              "    </button>\n",
              "\n",
              "  <style>\n",
              "    .colab-df-container {\n",
              "      display:flex;\n",
              "      gap: 12px;\n",
              "    }\n",
              "\n",
              "    .colab-df-convert {\n",
              "      background-color: #E8F0FE;\n",
              "      border: none;\n",
              "      border-radius: 50%;\n",
              "      cursor: pointer;\n",
              "      display: none;\n",
              "      fill: #1967D2;\n",
              "      height: 32px;\n",
              "      padding: 0 0 0 0;\n",
              "      width: 32px;\n",
              "    }\n",
              "\n",
              "    .colab-df-convert:hover {\n",
              "      background-color: #E2EBFA;\n",
              "      box-shadow: 0px 1px 2px rgba(60, 64, 67, 0.3), 0px 1px 3px 1px rgba(60, 64, 67, 0.15);\n",
              "      fill: #174EA6;\n",
              "    }\n",
              "\n",
              "    .colab-df-buttons div {\n",
              "      margin-bottom: 4px;\n",
              "    }\n",
              "\n",
              "    [theme=dark] .colab-df-convert {\n",
              "      background-color: #3B4455;\n",
              "      fill: #D2E3FC;\n",
              "    }\n",
              "\n",
              "    [theme=dark] .colab-df-convert:hover {\n",
              "      background-color: #434B5C;\n",
              "      box-shadow: 0px 1px 3px 1px rgba(0, 0, 0, 0.15);\n",
              "      filter: drop-shadow(0px 1px 2px rgba(0, 0, 0, 0.3));\n",
              "      fill: #FFFFFF;\n",
              "    }\n",
              "  </style>\n",
              "\n",
              "    <script>\n",
              "      const buttonEl =\n",
              "        document.querySelector('#df-876250a4-c7d0-4ead-8983-6270fcf5e823 button.colab-df-convert');\n",
              "      buttonEl.style.display =\n",
              "        google.colab.kernel.accessAllowed ? 'block' : 'none';\n",
              "\n",
              "      async function convertToInteractive(key) {\n",
              "        const element = document.querySelector('#df-876250a4-c7d0-4ead-8983-6270fcf5e823');\n",
              "        const dataTable =\n",
              "          await google.colab.kernel.invokeFunction('convertToInteractive',\n",
              "                                                    [key], {});\n",
              "        if (!dataTable) return;\n",
              "\n",
              "        const docLinkHtml = 'Like what you see? Visit the ' +\n",
              "          '<a target=\"_blank\" href=https://colab.research.google.com/notebooks/data_table.ipynb>data table notebook</a>'\n",
              "          + ' to learn more about interactive tables.';\n",
              "        element.innerHTML = '';\n",
              "        dataTable['output_type'] = 'display_data';\n",
              "        await google.colab.output.renderOutput(dataTable, element);\n",
              "        const docLink = document.createElement('div');\n",
              "        docLink.innerHTML = docLinkHtml;\n",
              "        element.appendChild(docLink);\n",
              "      }\n",
              "    </script>\n",
              "  </div>\n",
              "\n",
              "\n",
              "<div id=\"df-80e3926b-26c9-46e7-a24b-87f44445094f\">\n",
              "  <button class=\"colab-df-quickchart\" onclick=\"quickchart('df-80e3926b-26c9-46e7-a24b-87f44445094f')\"\n",
              "            title=\"Suggest charts.\"\n",
              "            style=\"display:none;\">\n",
              "\n",
              "<svg xmlns=\"http://www.w3.org/2000/svg\" height=\"24px\"viewBox=\"0 0 24 24\"\n",
              "     width=\"24px\">\n",
              "    <g>\n",
              "        <path d=\"M19 3H5c-1.1 0-2 .9-2 2v14c0 1.1.9 2 2 2h14c1.1 0 2-.9 2-2V5c0-1.1-.9-2-2-2zM9 17H7v-7h2v7zm4 0h-2V7h2v10zm4 0h-2v-4h2v4z\"/>\n",
              "    </g>\n",
              "</svg>\n",
              "  </button>\n",
              "\n",
              "<style>\n",
              "  .colab-df-quickchart {\n",
              "      --bg-color: #E8F0FE;\n",
              "      --fill-color: #1967D2;\n",
              "      --hover-bg-color: #E2EBFA;\n",
              "      --hover-fill-color: #174EA6;\n",
              "      --disabled-fill-color: #AAA;\n",
              "      --disabled-bg-color: #DDD;\n",
              "  }\n",
              "\n",
              "  [theme=dark] .colab-df-quickchart {\n",
              "      --bg-color: #3B4455;\n",
              "      --fill-color: #D2E3FC;\n",
              "      --hover-bg-color: #434B5C;\n",
              "      --hover-fill-color: #FFFFFF;\n",
              "      --disabled-bg-color: #3B4455;\n",
              "      --disabled-fill-color: #666;\n",
              "  }\n",
              "\n",
              "  .colab-df-quickchart {\n",
              "    background-color: var(--bg-color);\n",
              "    border: none;\n",
              "    border-radius: 50%;\n",
              "    cursor: pointer;\n",
              "    display: none;\n",
              "    fill: var(--fill-color);\n",
              "    height: 32px;\n",
              "    padding: 0;\n",
              "    width: 32px;\n",
              "  }\n",
              "\n",
              "  .colab-df-quickchart:hover {\n",
              "    background-color: var(--hover-bg-color);\n",
              "    box-shadow: 0 1px 2px rgba(60, 64, 67, 0.3), 0 1px 3px 1px rgba(60, 64, 67, 0.15);\n",
              "    fill: var(--button-hover-fill-color);\n",
              "  }\n",
              "\n",
              "  .colab-df-quickchart-complete:disabled,\n",
              "  .colab-df-quickchart-complete:disabled:hover {\n",
              "    background-color: var(--disabled-bg-color);\n",
              "    fill: var(--disabled-fill-color);\n",
              "    box-shadow: none;\n",
              "  }\n",
              "\n",
              "  .colab-df-spinner {\n",
              "    border: 2px solid var(--fill-color);\n",
              "    border-color: transparent;\n",
              "    border-bottom-color: var(--fill-color);\n",
              "    animation:\n",
              "      spin 1s steps(1) infinite;\n",
              "  }\n",
              "\n",
              "  @keyframes spin {\n",
              "    0% {\n",
              "      border-color: transparent;\n",
              "      border-bottom-color: var(--fill-color);\n",
              "      border-left-color: var(--fill-color);\n",
              "    }\n",
              "    20% {\n",
              "      border-color: transparent;\n",
              "      border-left-color: var(--fill-color);\n",
              "      border-top-color: var(--fill-color);\n",
              "    }\n",
              "    30% {\n",
              "      border-color: transparent;\n",
              "      border-left-color: var(--fill-color);\n",
              "      border-top-color: var(--fill-color);\n",
              "      border-right-color: var(--fill-color);\n",
              "    }\n",
              "    40% {\n",
              "      border-color: transparent;\n",
              "      border-right-color: var(--fill-color);\n",
              "      border-top-color: var(--fill-color);\n",
              "    }\n",
              "    60% {\n",
              "      border-color: transparent;\n",
              "      border-right-color: var(--fill-color);\n",
              "    }\n",
              "    80% {\n",
              "      border-color: transparent;\n",
              "      border-right-color: var(--fill-color);\n",
              "      border-bottom-color: var(--fill-color);\n",
              "    }\n",
              "    90% {\n",
              "      border-color: transparent;\n",
              "      border-bottom-color: var(--fill-color);\n",
              "    }\n",
              "  }\n",
              "</style>\n",
              "\n",
              "  <script>\n",
              "    async function quickchart(key) {\n",
              "      const quickchartButtonEl =\n",
              "        document.querySelector('#' + key + ' button');\n",
              "      quickchartButtonEl.disabled = true;  // To prevent multiple clicks.\n",
              "      quickchartButtonEl.classList.add('colab-df-spinner');\n",
              "      try {\n",
              "        const charts = await google.colab.kernel.invokeFunction(\n",
              "            'suggestCharts', [key], {});\n",
              "      } catch (error) {\n",
              "        console.error('Error during call to suggestCharts:', error);\n",
              "      }\n",
              "      quickchartButtonEl.classList.remove('colab-df-spinner');\n",
              "      quickchartButtonEl.classList.add('colab-df-quickchart-complete');\n",
              "    }\n",
              "    (() => {\n",
              "      let quickchartButtonEl =\n",
              "        document.querySelector('#df-80e3926b-26c9-46e7-a24b-87f44445094f button');\n",
              "      quickchartButtonEl.style.display =\n",
              "        google.colab.kernel.accessAllowed ? 'block' : 'none';\n",
              "    })();\n",
              "  </script>\n",
              "</div>\n",
              "    </div>\n",
              "  </div>\n"
            ]
          },
          "metadata": {},
          "execution_count": 100
        }
      ],
      "source": [
        "hp_df = bp_add_trim_drop(hp_df)\n",
        "hp_df.head()"
      ]
    },
    {
      "cell_type": "code",
      "source": [
        "hp_df.shape"
      ],
      "metadata": {
        "colab": {
          "base_uri": "https://localhost:8080/"
        },
        "id": "UzIqMDsqOXZ5",
        "outputId": "1bc00d96-0b95-479e-8053-17ce0a0f0f5a"
      },
      "execution_count": 101,
      "outputs": [
        {
          "output_type": "execute_result",
          "data": {
            "text/plain": [
              "(4860, 12)"
            ]
          },
          "metadata": {},
          "execution_count": 101
        }
      ]
    },
    {
      "cell_type": "code",
      "source": [
        "hp_df = no_rich_people(hp_df)\n",
        "hp_df.shape"
      ],
      "metadata": {
        "colab": {
          "base_uri": "https://localhost:8080/"
        },
        "id": "COOxK_oqOQQU",
        "outputId": "185d3b0c-38f5-4e76-8033-17218fa210a1"
      },
      "execution_count": 102,
      "outputs": [
        {
          "output_type": "execute_result",
          "data": {
            "text/plain": [
              "(4860, 12)"
            ]
          },
          "metadata": {},
          "execution_count": 102
        }
      ]
    },
    {
      "cell_type": "code",
      "source": [
        "#Checking to see if my no_rish_people() function did what I wanted it to do.\n",
        "# and it did, good.\n",
        "\n",
        "hp_df.hist(bins=50, figsize=(20,15))\n",
        "plt.show()"
      ],
      "metadata": {
        "id": "xjMsh36eOxyU"
      },
      "execution_count": null,
      "outputs": []
    },
    {
      "cell_type": "code",
      "source": [
        "def oral_health_cleaning(hp_df):\n",
        "  hp_df = hp_df.dropna(subset=['OHXRCAR', 'OHXRCARO'])\n",
        "  return hp_df\n"
      ],
      "metadata": {
        "id": "qB6YTI47Q_RQ"
      },
      "execution_count": 104,
      "outputs": []
    },
    {
      "cell_type": "code",
      "source": [
        "hp_df = oral_health_cleaning(hp_df)\n",
        "hp_df.shape"
      ],
      "metadata": {
        "colab": {
          "base_uri": "https://localhost:8080/"
        },
        "id": "occg0ROuRbfg",
        "outputId": "057ee584-cda3-4368-f2cc-b66201e1c6fb"
      },
      "execution_count": 105,
      "outputs": [
        {
          "output_type": "execute_result",
          "data": {
            "text/plain": [
              "(4860, 12)"
            ]
          },
          "metadata": {},
          "execution_count": 105
        }
      ]
    },
    {
      "cell_type": "markdown",
      "metadata": {
        "id": "k-tyVC8c2tFG"
      },
      "source": [
        "### Now split into training and test data sets"
      ]
    },
    {
      "cell_type": "code",
      "execution_count": 106,
      "metadata": {
        "id": "PExKIHJv2tFG"
      },
      "outputs": [],
      "source": [
        "from sklearn.model_selection import train_test_split\n",
        "train_set, test_set = train_test_split(hp_df, test_size=0.2, random_state=42)"
      ]
    },
    {
      "cell_type": "code",
      "execution_count": 107,
      "metadata": {
        "id": "7PUTZFkY2tFG"
      },
      "outputs": [],
      "source": [
        "# have some background information that leads us to believe male and female heart rates are different\n",
        "#  so we make sure that we have even split across train and test\n",
        "from sklearn.model_selection import StratifiedShuffleSplit\n",
        "split = StratifiedShuffleSplit(n_splits=1, test_size=0.2, random_state=42)\n",
        "for train_index, test_index in split.split(hp_df, hp_df['RIAGENDR']):\n",
        "        strat_train_set = hp_df.iloc[train_index]\n",
        "        strat_test_set = hp_df.iloc[test_index]"
      ]
    },
    {
      "cell_type": "code",
      "execution_count": 108,
      "metadata": {
        "colab": {
          "base_uri": "https://localhost:8080/"
        },
        "id": "Kcp5doy42tFG",
        "outputId": "5085d921-0562-4c03-90f4-adc79585d5b8"
      },
      "outputs": [
        {
          "output_type": "execute_result",
          "data": {
            "text/plain": [
              "0"
            ]
          },
          "metadata": {},
          "execution_count": 108
        }
      ],
      "source": [
        "bp_train_X = strat_train_set.drop(\"BPXOSY\", axis=1)\n",
        "bp_train_y = strat_train_set[\"BPXOSY\"].copy()\n",
        "bp_train_y.isnull().sum()"
      ]
    },
    {
      "cell_type": "code",
      "execution_count": 109,
      "metadata": {
        "colab": {
          "base_uri": "https://localhost:8080/",
          "height": 206
        },
        "id": "IeG8II-a2tFG",
        "outputId": "6e452d3d-a701-4d80-c7e1-93d6c99c5988"
      },
      "outputs": [
        {
          "output_type": "execute_result",
          "data": {
            "text/plain": [
              "       RIAGENDR  RIDAGEYR  DMDEDUC2  INDFMPIR  RIDRETH1  BMXWT  BMXHT  BMXBMI  \\\n",
              "9031        2.0      60.0       3.0      2.40       2.0   82.5  152.6    35.4   \n",
              "6602        1.0      59.0       3.0      0.88       3.0   70.3  168.7    24.7   \n",
              "11550       1.0      63.0       2.0      1.40       3.0   71.4  165.2    26.2   \n",
              "5073        2.0      37.0       4.0      1.99       1.0  100.2  159.1    39.6   \n",
              "9921        1.0      71.0       3.0      1.66       3.0   56.6  175.4    18.4   \n",
              "\n",
              "       OHXRCAR  OHXRCARO     BPXODI  \n",
              "9031       2.0       1.0  87.333333  \n",
              "6602       2.0       2.0  79.666667  \n",
              "11550      2.0       2.0  82.333333  \n",
              "5073       2.0       2.0  62.000000  \n",
              "9921       2.0       2.0  70.000000  "
            ],
            "text/html": [
              "\n",
              "  <div id=\"df-1628eb81-44d4-4ac3-901b-d3b9bdddaab7\" class=\"colab-df-container\">\n",
              "    <div>\n",
              "<style scoped>\n",
              "    .dataframe tbody tr th:only-of-type {\n",
              "        vertical-align: middle;\n",
              "    }\n",
              "\n",
              "    .dataframe tbody tr th {\n",
              "        vertical-align: top;\n",
              "    }\n",
              "\n",
              "    .dataframe thead th {\n",
              "        text-align: right;\n",
              "    }\n",
              "</style>\n",
              "<table border=\"1\" class=\"dataframe\">\n",
              "  <thead>\n",
              "    <tr style=\"text-align: right;\">\n",
              "      <th></th>\n",
              "      <th>RIAGENDR</th>\n",
              "      <th>RIDAGEYR</th>\n",
              "      <th>DMDEDUC2</th>\n",
              "      <th>INDFMPIR</th>\n",
              "      <th>RIDRETH1</th>\n",
              "      <th>BMXWT</th>\n",
              "      <th>BMXHT</th>\n",
              "      <th>BMXBMI</th>\n",
              "      <th>OHXRCAR</th>\n",
              "      <th>OHXRCARO</th>\n",
              "      <th>BPXODI</th>\n",
              "    </tr>\n",
              "  </thead>\n",
              "  <tbody>\n",
              "    <tr>\n",
              "      <th>9031</th>\n",
              "      <td>2.0</td>\n",
              "      <td>60.0</td>\n",
              "      <td>3.0</td>\n",
              "      <td>2.40</td>\n",
              "      <td>2.0</td>\n",
              "      <td>82.5</td>\n",
              "      <td>152.6</td>\n",
              "      <td>35.4</td>\n",
              "      <td>2.0</td>\n",
              "      <td>1.0</td>\n",
              "      <td>87.333333</td>\n",
              "    </tr>\n",
              "    <tr>\n",
              "      <th>6602</th>\n",
              "      <td>1.0</td>\n",
              "      <td>59.0</td>\n",
              "      <td>3.0</td>\n",
              "      <td>0.88</td>\n",
              "      <td>3.0</td>\n",
              "      <td>70.3</td>\n",
              "      <td>168.7</td>\n",
              "      <td>24.7</td>\n",
              "      <td>2.0</td>\n",
              "      <td>2.0</td>\n",
              "      <td>79.666667</td>\n",
              "    </tr>\n",
              "    <tr>\n",
              "      <th>11550</th>\n",
              "      <td>1.0</td>\n",
              "      <td>63.0</td>\n",
              "      <td>2.0</td>\n",
              "      <td>1.40</td>\n",
              "      <td>3.0</td>\n",
              "      <td>71.4</td>\n",
              "      <td>165.2</td>\n",
              "      <td>26.2</td>\n",
              "      <td>2.0</td>\n",
              "      <td>2.0</td>\n",
              "      <td>82.333333</td>\n",
              "    </tr>\n",
              "    <tr>\n",
              "      <th>5073</th>\n",
              "      <td>2.0</td>\n",
              "      <td>37.0</td>\n",
              "      <td>4.0</td>\n",
              "      <td>1.99</td>\n",
              "      <td>1.0</td>\n",
              "      <td>100.2</td>\n",
              "      <td>159.1</td>\n",
              "      <td>39.6</td>\n",
              "      <td>2.0</td>\n",
              "      <td>2.0</td>\n",
              "      <td>62.000000</td>\n",
              "    </tr>\n",
              "    <tr>\n",
              "      <th>9921</th>\n",
              "      <td>1.0</td>\n",
              "      <td>71.0</td>\n",
              "      <td>3.0</td>\n",
              "      <td>1.66</td>\n",
              "      <td>3.0</td>\n",
              "      <td>56.6</td>\n",
              "      <td>175.4</td>\n",
              "      <td>18.4</td>\n",
              "      <td>2.0</td>\n",
              "      <td>2.0</td>\n",
              "      <td>70.000000</td>\n",
              "    </tr>\n",
              "  </tbody>\n",
              "</table>\n",
              "</div>\n",
              "    <div class=\"colab-df-buttons\">\n",
              "\n",
              "  <div class=\"colab-df-container\">\n",
              "    <button class=\"colab-df-convert\" onclick=\"convertToInteractive('df-1628eb81-44d4-4ac3-901b-d3b9bdddaab7')\"\n",
              "            title=\"Convert this dataframe to an interactive table.\"\n",
              "            style=\"display:none;\">\n",
              "\n",
              "  <svg xmlns=\"http://www.w3.org/2000/svg\" height=\"24px\" viewBox=\"0 -960 960 960\">\n",
              "    <path d=\"M120-120v-720h720v720H120Zm60-500h600v-160H180v160Zm220 220h160v-160H400v160Zm0 220h160v-160H400v160ZM180-400h160v-160H180v160Zm440 0h160v-160H620v160ZM180-180h160v-160H180v160Zm440 0h160v-160H620v160Z\"/>\n",
              "  </svg>\n",
              "    </button>\n",
              "\n",
              "  <style>\n",
              "    .colab-df-container {\n",
              "      display:flex;\n",
              "      gap: 12px;\n",
              "    }\n",
              "\n",
              "    .colab-df-convert {\n",
              "      background-color: #E8F0FE;\n",
              "      border: none;\n",
              "      border-radius: 50%;\n",
              "      cursor: pointer;\n",
              "      display: none;\n",
              "      fill: #1967D2;\n",
              "      height: 32px;\n",
              "      padding: 0 0 0 0;\n",
              "      width: 32px;\n",
              "    }\n",
              "\n",
              "    .colab-df-convert:hover {\n",
              "      background-color: #E2EBFA;\n",
              "      box-shadow: 0px 1px 2px rgba(60, 64, 67, 0.3), 0px 1px 3px 1px rgba(60, 64, 67, 0.15);\n",
              "      fill: #174EA6;\n",
              "    }\n",
              "\n",
              "    .colab-df-buttons div {\n",
              "      margin-bottom: 4px;\n",
              "    }\n",
              "\n",
              "    [theme=dark] .colab-df-convert {\n",
              "      background-color: #3B4455;\n",
              "      fill: #D2E3FC;\n",
              "    }\n",
              "\n",
              "    [theme=dark] .colab-df-convert:hover {\n",
              "      background-color: #434B5C;\n",
              "      box-shadow: 0px 1px 3px 1px rgba(0, 0, 0, 0.15);\n",
              "      filter: drop-shadow(0px 1px 2px rgba(0, 0, 0, 0.3));\n",
              "      fill: #FFFFFF;\n",
              "    }\n",
              "  </style>\n",
              "\n",
              "    <script>\n",
              "      const buttonEl =\n",
              "        document.querySelector('#df-1628eb81-44d4-4ac3-901b-d3b9bdddaab7 button.colab-df-convert');\n",
              "      buttonEl.style.display =\n",
              "        google.colab.kernel.accessAllowed ? 'block' : 'none';\n",
              "\n",
              "      async function convertToInteractive(key) {\n",
              "        const element = document.querySelector('#df-1628eb81-44d4-4ac3-901b-d3b9bdddaab7');\n",
              "        const dataTable =\n",
              "          await google.colab.kernel.invokeFunction('convertToInteractive',\n",
              "                                                    [key], {});\n",
              "        if (!dataTable) return;\n",
              "\n",
              "        const docLinkHtml = 'Like what you see? Visit the ' +\n",
              "          '<a target=\"_blank\" href=https://colab.research.google.com/notebooks/data_table.ipynb>data table notebook</a>'\n",
              "          + ' to learn more about interactive tables.';\n",
              "        element.innerHTML = '';\n",
              "        dataTable['output_type'] = 'display_data';\n",
              "        await google.colab.output.renderOutput(dataTable, element);\n",
              "        const docLink = document.createElement('div');\n",
              "        docLink.innerHTML = docLinkHtml;\n",
              "        element.appendChild(docLink);\n",
              "      }\n",
              "    </script>\n",
              "  </div>\n",
              "\n",
              "\n",
              "<div id=\"df-2294bf10-e08d-467e-8c0b-015cc34cb27a\">\n",
              "  <button class=\"colab-df-quickchart\" onclick=\"quickchart('df-2294bf10-e08d-467e-8c0b-015cc34cb27a')\"\n",
              "            title=\"Suggest charts.\"\n",
              "            style=\"display:none;\">\n",
              "\n",
              "<svg xmlns=\"http://www.w3.org/2000/svg\" height=\"24px\"viewBox=\"0 0 24 24\"\n",
              "     width=\"24px\">\n",
              "    <g>\n",
              "        <path d=\"M19 3H5c-1.1 0-2 .9-2 2v14c0 1.1.9 2 2 2h14c1.1 0 2-.9 2-2V5c0-1.1-.9-2-2-2zM9 17H7v-7h2v7zm4 0h-2V7h2v10zm4 0h-2v-4h2v4z\"/>\n",
              "    </g>\n",
              "</svg>\n",
              "  </button>\n",
              "\n",
              "<style>\n",
              "  .colab-df-quickchart {\n",
              "      --bg-color: #E8F0FE;\n",
              "      --fill-color: #1967D2;\n",
              "      --hover-bg-color: #E2EBFA;\n",
              "      --hover-fill-color: #174EA6;\n",
              "      --disabled-fill-color: #AAA;\n",
              "      --disabled-bg-color: #DDD;\n",
              "  }\n",
              "\n",
              "  [theme=dark] .colab-df-quickchart {\n",
              "      --bg-color: #3B4455;\n",
              "      --fill-color: #D2E3FC;\n",
              "      --hover-bg-color: #434B5C;\n",
              "      --hover-fill-color: #FFFFFF;\n",
              "      --disabled-bg-color: #3B4455;\n",
              "      --disabled-fill-color: #666;\n",
              "  }\n",
              "\n",
              "  .colab-df-quickchart {\n",
              "    background-color: var(--bg-color);\n",
              "    border: none;\n",
              "    border-radius: 50%;\n",
              "    cursor: pointer;\n",
              "    display: none;\n",
              "    fill: var(--fill-color);\n",
              "    height: 32px;\n",
              "    padding: 0;\n",
              "    width: 32px;\n",
              "  }\n",
              "\n",
              "  .colab-df-quickchart:hover {\n",
              "    background-color: var(--hover-bg-color);\n",
              "    box-shadow: 0 1px 2px rgba(60, 64, 67, 0.3), 0 1px 3px 1px rgba(60, 64, 67, 0.15);\n",
              "    fill: var(--button-hover-fill-color);\n",
              "  }\n",
              "\n",
              "  .colab-df-quickchart-complete:disabled,\n",
              "  .colab-df-quickchart-complete:disabled:hover {\n",
              "    background-color: var(--disabled-bg-color);\n",
              "    fill: var(--disabled-fill-color);\n",
              "    box-shadow: none;\n",
              "  }\n",
              "\n",
              "  .colab-df-spinner {\n",
              "    border: 2px solid var(--fill-color);\n",
              "    border-color: transparent;\n",
              "    border-bottom-color: var(--fill-color);\n",
              "    animation:\n",
              "      spin 1s steps(1) infinite;\n",
              "  }\n",
              "\n",
              "  @keyframes spin {\n",
              "    0% {\n",
              "      border-color: transparent;\n",
              "      border-bottom-color: var(--fill-color);\n",
              "      border-left-color: var(--fill-color);\n",
              "    }\n",
              "    20% {\n",
              "      border-color: transparent;\n",
              "      border-left-color: var(--fill-color);\n",
              "      border-top-color: var(--fill-color);\n",
              "    }\n",
              "    30% {\n",
              "      border-color: transparent;\n",
              "      border-left-color: var(--fill-color);\n",
              "      border-top-color: var(--fill-color);\n",
              "      border-right-color: var(--fill-color);\n",
              "    }\n",
              "    40% {\n",
              "      border-color: transparent;\n",
              "      border-right-color: var(--fill-color);\n",
              "      border-top-color: var(--fill-color);\n",
              "    }\n",
              "    60% {\n",
              "      border-color: transparent;\n",
              "      border-right-color: var(--fill-color);\n",
              "    }\n",
              "    80% {\n",
              "      border-color: transparent;\n",
              "      border-right-color: var(--fill-color);\n",
              "      border-bottom-color: var(--fill-color);\n",
              "    }\n",
              "    90% {\n",
              "      border-color: transparent;\n",
              "      border-bottom-color: var(--fill-color);\n",
              "    }\n",
              "  }\n",
              "</style>\n",
              "\n",
              "  <script>\n",
              "    async function quickchart(key) {\n",
              "      const quickchartButtonEl =\n",
              "        document.querySelector('#' + key + ' button');\n",
              "      quickchartButtonEl.disabled = true;  // To prevent multiple clicks.\n",
              "      quickchartButtonEl.classList.add('colab-df-spinner');\n",
              "      try {\n",
              "        const charts = await google.colab.kernel.invokeFunction(\n",
              "            'suggestCharts', [key], {});\n",
              "      } catch (error) {\n",
              "        console.error('Error during call to suggestCharts:', error);\n",
              "      }\n",
              "      quickchartButtonEl.classList.remove('colab-df-spinner');\n",
              "      quickchartButtonEl.classList.add('colab-df-quickchart-complete');\n",
              "    }\n",
              "    (() => {\n",
              "      let quickchartButtonEl =\n",
              "        document.querySelector('#df-2294bf10-e08d-467e-8c0b-015cc34cb27a button');\n",
              "      quickchartButtonEl.style.display =\n",
              "        google.colab.kernel.accessAllowed ? 'block' : 'none';\n",
              "    })();\n",
              "  </script>\n",
              "</div>\n",
              "    </div>\n",
              "  </div>\n"
            ]
          },
          "metadata": {},
          "execution_count": 109
        }
      ],
      "source": [
        "bp_train_X.head()"
      ]
    },
    {
      "cell_type": "markdown",
      "metadata": {
        "id": "2ZdXXSoO2tFH"
      },
      "source": [
        "### set missing values of numerical data to the median"
      ]
    },
    {
      "cell_type": "code",
      "execution_count": 110,
      "metadata": {
        "id": "r1SgAOTP2tFH"
      },
      "outputs": [],
      "source": [
        "# these are categorical fields, so we need to remove them to do column calculations\n",
        "\n",
        "columns_to_remove = [\"RIAGENDR\", \"OHXRCAR\", \"OHXRCARO\", \"RIDRETH1\"]\n",
        "\n",
        "bp_num = bp_train_X.drop(columns= columns_to_remove)\n"
      ]
    },
    {
      "cell_type": "code",
      "execution_count": 111,
      "metadata": {
        "id": "l62sfrot2tFH"
      },
      "outputs": [],
      "source": [
        "from sklearn.impute import SimpleImputer\n",
        "from sklearn.pipeline import Pipeline\n",
        "from sklearn.preprocessing import StandardScaler\n",
        "from sklearn.compose import ColumnTransformer\n",
        "from sklearn.preprocessing import OneHotEncoder"
      ]
    },
    {
      "cell_type": "code",
      "execution_count": 112,
      "metadata": {
        "id": "XJy8iwF42tFH"
      },
      "outputs": [],
      "source": [
        "\n",
        "num_pipeline = Pipeline([\n",
        "        ('imputer', SimpleImputer(strategy=\"median\")),\n",
        "        ('std_scaler', StandardScaler()),\n",
        "        ])\n",
        "#bp_num_tr = num_pipeline.fit_transform(bp_num)"
      ]
    },
    {
      "cell_type": "code",
      "source": [
        "bp_train_X.head()"
      ],
      "metadata": {
        "colab": {
          "base_uri": "https://localhost:8080/",
          "height": 206
        },
        "id": "K9mzk5ASmm15",
        "outputId": "2b66e08a-a8ee-4350-98cd-91b69643a23c"
      },
      "execution_count": 113,
      "outputs": [
        {
          "output_type": "execute_result",
          "data": {
            "text/plain": [
              "       RIAGENDR  RIDAGEYR  DMDEDUC2  INDFMPIR  RIDRETH1  BMXWT  BMXHT  BMXBMI  \\\n",
              "9031        2.0      60.0       3.0      2.40       2.0   82.5  152.6    35.4   \n",
              "6602        1.0      59.0       3.0      0.88       3.0   70.3  168.7    24.7   \n",
              "11550       1.0      63.0       2.0      1.40       3.0   71.4  165.2    26.2   \n",
              "5073        2.0      37.0       4.0      1.99       1.0  100.2  159.1    39.6   \n",
              "9921        1.0      71.0       3.0      1.66       3.0   56.6  175.4    18.4   \n",
              "\n",
              "       OHXRCAR  OHXRCARO     BPXODI  \n",
              "9031       2.0       1.0  87.333333  \n",
              "6602       2.0       2.0  79.666667  \n",
              "11550      2.0       2.0  82.333333  \n",
              "5073       2.0       2.0  62.000000  \n",
              "9921       2.0       2.0  70.000000  "
            ],
            "text/html": [
              "\n",
              "  <div id=\"df-2a7fe965-d76f-41c2-848f-ba49391906d4\" class=\"colab-df-container\">\n",
              "    <div>\n",
              "<style scoped>\n",
              "    .dataframe tbody tr th:only-of-type {\n",
              "        vertical-align: middle;\n",
              "    }\n",
              "\n",
              "    .dataframe tbody tr th {\n",
              "        vertical-align: top;\n",
              "    }\n",
              "\n",
              "    .dataframe thead th {\n",
              "        text-align: right;\n",
              "    }\n",
              "</style>\n",
              "<table border=\"1\" class=\"dataframe\">\n",
              "  <thead>\n",
              "    <tr style=\"text-align: right;\">\n",
              "      <th></th>\n",
              "      <th>RIAGENDR</th>\n",
              "      <th>RIDAGEYR</th>\n",
              "      <th>DMDEDUC2</th>\n",
              "      <th>INDFMPIR</th>\n",
              "      <th>RIDRETH1</th>\n",
              "      <th>BMXWT</th>\n",
              "      <th>BMXHT</th>\n",
              "      <th>BMXBMI</th>\n",
              "      <th>OHXRCAR</th>\n",
              "      <th>OHXRCARO</th>\n",
              "      <th>BPXODI</th>\n",
              "    </tr>\n",
              "  </thead>\n",
              "  <tbody>\n",
              "    <tr>\n",
              "      <th>9031</th>\n",
              "      <td>2.0</td>\n",
              "      <td>60.0</td>\n",
              "      <td>3.0</td>\n",
              "      <td>2.40</td>\n",
              "      <td>2.0</td>\n",
              "      <td>82.5</td>\n",
              "      <td>152.6</td>\n",
              "      <td>35.4</td>\n",
              "      <td>2.0</td>\n",
              "      <td>1.0</td>\n",
              "      <td>87.333333</td>\n",
              "    </tr>\n",
              "    <tr>\n",
              "      <th>6602</th>\n",
              "      <td>1.0</td>\n",
              "      <td>59.0</td>\n",
              "      <td>3.0</td>\n",
              "      <td>0.88</td>\n",
              "      <td>3.0</td>\n",
              "      <td>70.3</td>\n",
              "      <td>168.7</td>\n",
              "      <td>24.7</td>\n",
              "      <td>2.0</td>\n",
              "      <td>2.0</td>\n",
              "      <td>79.666667</td>\n",
              "    </tr>\n",
              "    <tr>\n",
              "      <th>11550</th>\n",
              "      <td>1.0</td>\n",
              "      <td>63.0</td>\n",
              "      <td>2.0</td>\n",
              "      <td>1.40</td>\n",
              "      <td>3.0</td>\n",
              "      <td>71.4</td>\n",
              "      <td>165.2</td>\n",
              "      <td>26.2</td>\n",
              "      <td>2.0</td>\n",
              "      <td>2.0</td>\n",
              "      <td>82.333333</td>\n",
              "    </tr>\n",
              "    <tr>\n",
              "      <th>5073</th>\n",
              "      <td>2.0</td>\n",
              "      <td>37.0</td>\n",
              "      <td>4.0</td>\n",
              "      <td>1.99</td>\n",
              "      <td>1.0</td>\n",
              "      <td>100.2</td>\n",
              "      <td>159.1</td>\n",
              "      <td>39.6</td>\n",
              "      <td>2.0</td>\n",
              "      <td>2.0</td>\n",
              "      <td>62.000000</td>\n",
              "    </tr>\n",
              "    <tr>\n",
              "      <th>9921</th>\n",
              "      <td>1.0</td>\n",
              "      <td>71.0</td>\n",
              "      <td>3.0</td>\n",
              "      <td>1.66</td>\n",
              "      <td>3.0</td>\n",
              "      <td>56.6</td>\n",
              "      <td>175.4</td>\n",
              "      <td>18.4</td>\n",
              "      <td>2.0</td>\n",
              "      <td>2.0</td>\n",
              "      <td>70.000000</td>\n",
              "    </tr>\n",
              "  </tbody>\n",
              "</table>\n",
              "</div>\n",
              "    <div class=\"colab-df-buttons\">\n",
              "\n",
              "  <div class=\"colab-df-container\">\n",
              "    <button class=\"colab-df-convert\" onclick=\"convertToInteractive('df-2a7fe965-d76f-41c2-848f-ba49391906d4')\"\n",
              "            title=\"Convert this dataframe to an interactive table.\"\n",
              "            style=\"display:none;\">\n",
              "\n",
              "  <svg xmlns=\"http://www.w3.org/2000/svg\" height=\"24px\" viewBox=\"0 -960 960 960\">\n",
              "    <path d=\"M120-120v-720h720v720H120Zm60-500h600v-160H180v160Zm220 220h160v-160H400v160Zm0 220h160v-160H400v160ZM180-400h160v-160H180v160Zm440 0h160v-160H620v160ZM180-180h160v-160H180v160Zm440 0h160v-160H620v160Z\"/>\n",
              "  </svg>\n",
              "    </button>\n",
              "\n",
              "  <style>\n",
              "    .colab-df-container {\n",
              "      display:flex;\n",
              "      gap: 12px;\n",
              "    }\n",
              "\n",
              "    .colab-df-convert {\n",
              "      background-color: #E8F0FE;\n",
              "      border: none;\n",
              "      border-radius: 50%;\n",
              "      cursor: pointer;\n",
              "      display: none;\n",
              "      fill: #1967D2;\n",
              "      height: 32px;\n",
              "      padding: 0 0 0 0;\n",
              "      width: 32px;\n",
              "    }\n",
              "\n",
              "    .colab-df-convert:hover {\n",
              "      background-color: #E2EBFA;\n",
              "      box-shadow: 0px 1px 2px rgba(60, 64, 67, 0.3), 0px 1px 3px 1px rgba(60, 64, 67, 0.15);\n",
              "      fill: #174EA6;\n",
              "    }\n",
              "\n",
              "    .colab-df-buttons div {\n",
              "      margin-bottom: 4px;\n",
              "    }\n",
              "\n",
              "    [theme=dark] .colab-df-convert {\n",
              "      background-color: #3B4455;\n",
              "      fill: #D2E3FC;\n",
              "    }\n",
              "\n",
              "    [theme=dark] .colab-df-convert:hover {\n",
              "      background-color: #434B5C;\n",
              "      box-shadow: 0px 1px 3px 1px rgba(0, 0, 0, 0.15);\n",
              "      filter: drop-shadow(0px 1px 2px rgba(0, 0, 0, 0.3));\n",
              "      fill: #FFFFFF;\n",
              "    }\n",
              "  </style>\n",
              "\n",
              "    <script>\n",
              "      const buttonEl =\n",
              "        document.querySelector('#df-2a7fe965-d76f-41c2-848f-ba49391906d4 button.colab-df-convert');\n",
              "      buttonEl.style.display =\n",
              "        google.colab.kernel.accessAllowed ? 'block' : 'none';\n",
              "\n",
              "      async function convertToInteractive(key) {\n",
              "        const element = document.querySelector('#df-2a7fe965-d76f-41c2-848f-ba49391906d4');\n",
              "        const dataTable =\n",
              "          await google.colab.kernel.invokeFunction('convertToInteractive',\n",
              "                                                    [key], {});\n",
              "        if (!dataTable) return;\n",
              "\n",
              "        const docLinkHtml = 'Like what you see? Visit the ' +\n",
              "          '<a target=\"_blank\" href=https://colab.research.google.com/notebooks/data_table.ipynb>data table notebook</a>'\n",
              "          + ' to learn more about interactive tables.';\n",
              "        element.innerHTML = '';\n",
              "        dataTable['output_type'] = 'display_data';\n",
              "        await google.colab.output.renderOutput(dataTable, element);\n",
              "        const docLink = document.createElement('div');\n",
              "        docLink.innerHTML = docLinkHtml;\n",
              "        element.appendChild(docLink);\n",
              "      }\n",
              "    </script>\n",
              "  </div>\n",
              "\n",
              "\n",
              "<div id=\"df-cc4273f6-e03b-4aad-aa19-4fe418119a16\">\n",
              "  <button class=\"colab-df-quickchart\" onclick=\"quickchart('df-cc4273f6-e03b-4aad-aa19-4fe418119a16')\"\n",
              "            title=\"Suggest charts.\"\n",
              "            style=\"display:none;\">\n",
              "\n",
              "<svg xmlns=\"http://www.w3.org/2000/svg\" height=\"24px\"viewBox=\"0 0 24 24\"\n",
              "     width=\"24px\">\n",
              "    <g>\n",
              "        <path d=\"M19 3H5c-1.1 0-2 .9-2 2v14c0 1.1.9 2 2 2h14c1.1 0 2-.9 2-2V5c0-1.1-.9-2-2-2zM9 17H7v-7h2v7zm4 0h-2V7h2v10zm4 0h-2v-4h2v4z\"/>\n",
              "    </g>\n",
              "</svg>\n",
              "  </button>\n",
              "\n",
              "<style>\n",
              "  .colab-df-quickchart {\n",
              "      --bg-color: #E8F0FE;\n",
              "      --fill-color: #1967D2;\n",
              "      --hover-bg-color: #E2EBFA;\n",
              "      --hover-fill-color: #174EA6;\n",
              "      --disabled-fill-color: #AAA;\n",
              "      --disabled-bg-color: #DDD;\n",
              "  }\n",
              "\n",
              "  [theme=dark] .colab-df-quickchart {\n",
              "      --bg-color: #3B4455;\n",
              "      --fill-color: #D2E3FC;\n",
              "      --hover-bg-color: #434B5C;\n",
              "      --hover-fill-color: #FFFFFF;\n",
              "      --disabled-bg-color: #3B4455;\n",
              "      --disabled-fill-color: #666;\n",
              "  }\n",
              "\n",
              "  .colab-df-quickchart {\n",
              "    background-color: var(--bg-color);\n",
              "    border: none;\n",
              "    border-radius: 50%;\n",
              "    cursor: pointer;\n",
              "    display: none;\n",
              "    fill: var(--fill-color);\n",
              "    height: 32px;\n",
              "    padding: 0;\n",
              "    width: 32px;\n",
              "  }\n",
              "\n",
              "  .colab-df-quickchart:hover {\n",
              "    background-color: var(--hover-bg-color);\n",
              "    box-shadow: 0 1px 2px rgba(60, 64, 67, 0.3), 0 1px 3px 1px rgba(60, 64, 67, 0.15);\n",
              "    fill: var(--button-hover-fill-color);\n",
              "  }\n",
              "\n",
              "  .colab-df-quickchart-complete:disabled,\n",
              "  .colab-df-quickchart-complete:disabled:hover {\n",
              "    background-color: var(--disabled-bg-color);\n",
              "    fill: var(--disabled-fill-color);\n",
              "    box-shadow: none;\n",
              "  }\n",
              "\n",
              "  .colab-df-spinner {\n",
              "    border: 2px solid var(--fill-color);\n",
              "    border-color: transparent;\n",
              "    border-bottom-color: var(--fill-color);\n",
              "    animation:\n",
              "      spin 1s steps(1) infinite;\n",
              "  }\n",
              "\n",
              "  @keyframes spin {\n",
              "    0% {\n",
              "      border-color: transparent;\n",
              "      border-bottom-color: var(--fill-color);\n",
              "      border-left-color: var(--fill-color);\n",
              "    }\n",
              "    20% {\n",
              "      border-color: transparent;\n",
              "      border-left-color: var(--fill-color);\n",
              "      border-top-color: var(--fill-color);\n",
              "    }\n",
              "    30% {\n",
              "      border-color: transparent;\n",
              "      border-left-color: var(--fill-color);\n",
              "      border-top-color: var(--fill-color);\n",
              "      border-right-color: var(--fill-color);\n",
              "    }\n",
              "    40% {\n",
              "      border-color: transparent;\n",
              "      border-right-color: var(--fill-color);\n",
              "      border-top-color: var(--fill-color);\n",
              "    }\n",
              "    60% {\n",
              "      border-color: transparent;\n",
              "      border-right-color: var(--fill-color);\n",
              "    }\n",
              "    80% {\n",
              "      border-color: transparent;\n",
              "      border-right-color: var(--fill-color);\n",
              "      border-bottom-color: var(--fill-color);\n",
              "    }\n",
              "    90% {\n",
              "      border-color: transparent;\n",
              "      border-bottom-color: var(--fill-color);\n",
              "    }\n",
              "  }\n",
              "</style>\n",
              "\n",
              "  <script>\n",
              "    async function quickchart(key) {\n",
              "      const quickchartButtonEl =\n",
              "        document.querySelector('#' + key + ' button');\n",
              "      quickchartButtonEl.disabled = true;  // To prevent multiple clicks.\n",
              "      quickchartButtonEl.classList.add('colab-df-spinner');\n",
              "      try {\n",
              "        const charts = await google.colab.kernel.invokeFunction(\n",
              "            'suggestCharts', [key], {});\n",
              "      } catch (error) {\n",
              "        console.error('Error during call to suggestCharts:', error);\n",
              "      }\n",
              "      quickchartButtonEl.classList.remove('colab-df-spinner');\n",
              "      quickchartButtonEl.classList.add('colab-df-quickchart-complete');\n",
              "    }\n",
              "    (() => {\n",
              "      let quickchartButtonEl =\n",
              "        document.querySelector('#df-cc4273f6-e03b-4aad-aa19-4fe418119a16 button');\n",
              "      quickchartButtonEl.style.display =\n",
              "        google.colab.kernel.accessAllowed ? 'block' : 'none';\n",
              "    })();\n",
              "  </script>\n",
              "</div>\n",
              "    </div>\n",
              "  </div>\n"
            ]
          },
          "metadata": {},
          "execution_count": 113
        }
      ]
    },
    {
      "cell_type": "code",
      "execution_count": 114,
      "metadata": {
        "colab": {
          "base_uri": "https://localhost:8080/"
        },
        "id": "B07tpf4f2tFH",
        "outputId": "30172607-8346-4354-9780-9bc4c9de4c3e"
      },
      "outputs": [
        {
          "output_type": "execute_result",
          "data": {
            "text/plain": [
              "(3888, 20)"
            ]
          },
          "metadata": {},
          "execution_count": 114
        }
      ],
      "source": [
        "num_attribs = list(bp_num)\n",
        "cat_attribs = [\"RIAGENDR\", \"OHXRCAR\", \"OHXRCARO\", \"RIDRETH1\"]\n",
        "full_pipeline = ColumnTransformer([\n",
        "        (\"num\", num_pipeline, num_attribs),\n",
        "        (\"cat\", OneHotEncoder(), cat_attribs),\n",
        "        ])\n",
        "bp_prepared = full_pipeline.fit_transform(bp_train_X)\n",
        "bp_prepared.shape\n",
        "# print(len(num_attribs))\n",
        "# print(num_attribs)"
      ]
    },
    {
      "cell_type": "code",
      "execution_count": 115,
      "metadata": {
        "colab": {
          "base_uri": "https://localhost:8080/",
          "height": 206
        },
        "id": "WfXGbK2d2tFH",
        "outputId": "03cf3170-e1dc-4acc-b4cb-cd04c600bd6f"
      },
      "outputs": [
        {
          "output_type": "execute_result",
          "data": {
            "text/plain": [
              "         0         1         2         3         4         5         6    7   \\\n",
              "0  0.638862 -0.437340  0.220164 -0.098895 -1.452314  0.653779  1.071705  0.0   \n",
              "1  0.581617 -0.437340 -0.951234 -0.623435  0.188185 -0.739639  0.410075  1.0   \n",
              "2  0.810595 -1.321112 -0.550492 -0.576140 -0.168445 -0.544300  0.640207  1.0   \n",
              "3 -0.677761  0.446432 -0.095805  0.662117 -0.790001  1.200728 -1.114551  0.0   \n",
              "4  1.268551 -0.437340 -0.350122 -1.212467  0.870877 -1.560062 -0.424155  1.0   \n",
              "\n",
              "    8    9    10   11   12   13   14   15   16   17   18   19  \n",
              "0  1.0  0.0  1.0  0.0  1.0  0.0  0.0  0.0  1.0  0.0  0.0  0.0  \n",
              "1  0.0  0.0  1.0  0.0  0.0  1.0  0.0  0.0  0.0  1.0  0.0  0.0  \n",
              "2  0.0  0.0  1.0  0.0  0.0  1.0  0.0  0.0  0.0  1.0  0.0  0.0  \n",
              "3  1.0  0.0  1.0  0.0  0.0  1.0  0.0  1.0  0.0  0.0  0.0  0.0  \n",
              "4  0.0  0.0  1.0  0.0  0.0  1.0  0.0  0.0  0.0  1.0  0.0  0.0  "
            ],
            "text/html": [
              "\n",
              "  <div id=\"df-61908222-1e22-4cd3-a754-f67990d1ec1f\" class=\"colab-df-container\">\n",
              "    <div>\n",
              "<style scoped>\n",
              "    .dataframe tbody tr th:only-of-type {\n",
              "        vertical-align: middle;\n",
              "    }\n",
              "\n",
              "    .dataframe tbody tr th {\n",
              "        vertical-align: top;\n",
              "    }\n",
              "\n",
              "    .dataframe thead th {\n",
              "        text-align: right;\n",
              "    }\n",
              "</style>\n",
              "<table border=\"1\" class=\"dataframe\">\n",
              "  <thead>\n",
              "    <tr style=\"text-align: right;\">\n",
              "      <th></th>\n",
              "      <th>0</th>\n",
              "      <th>1</th>\n",
              "      <th>2</th>\n",
              "      <th>3</th>\n",
              "      <th>4</th>\n",
              "      <th>5</th>\n",
              "      <th>6</th>\n",
              "      <th>7</th>\n",
              "      <th>8</th>\n",
              "      <th>9</th>\n",
              "      <th>10</th>\n",
              "      <th>11</th>\n",
              "      <th>12</th>\n",
              "      <th>13</th>\n",
              "      <th>14</th>\n",
              "      <th>15</th>\n",
              "      <th>16</th>\n",
              "      <th>17</th>\n",
              "      <th>18</th>\n",
              "      <th>19</th>\n",
              "    </tr>\n",
              "  </thead>\n",
              "  <tbody>\n",
              "    <tr>\n",
              "      <th>0</th>\n",
              "      <td>0.638862</td>\n",
              "      <td>-0.437340</td>\n",
              "      <td>0.220164</td>\n",
              "      <td>-0.098895</td>\n",
              "      <td>-1.452314</td>\n",
              "      <td>0.653779</td>\n",
              "      <td>1.071705</td>\n",
              "      <td>0.0</td>\n",
              "      <td>1.0</td>\n",
              "      <td>0.0</td>\n",
              "      <td>1.0</td>\n",
              "      <td>0.0</td>\n",
              "      <td>1.0</td>\n",
              "      <td>0.0</td>\n",
              "      <td>0.0</td>\n",
              "      <td>0.0</td>\n",
              "      <td>1.0</td>\n",
              "      <td>0.0</td>\n",
              "      <td>0.0</td>\n",
              "      <td>0.0</td>\n",
              "    </tr>\n",
              "    <tr>\n",
              "      <th>1</th>\n",
              "      <td>0.581617</td>\n",
              "      <td>-0.437340</td>\n",
              "      <td>-0.951234</td>\n",
              "      <td>-0.623435</td>\n",
              "      <td>0.188185</td>\n",
              "      <td>-0.739639</td>\n",
              "      <td>0.410075</td>\n",
              "      <td>1.0</td>\n",
              "      <td>0.0</td>\n",
              "      <td>0.0</td>\n",
              "      <td>1.0</td>\n",
              "      <td>0.0</td>\n",
              "      <td>0.0</td>\n",
              "      <td>1.0</td>\n",
              "      <td>0.0</td>\n",
              "      <td>0.0</td>\n",
              "      <td>0.0</td>\n",
              "      <td>1.0</td>\n",
              "      <td>0.0</td>\n",
              "      <td>0.0</td>\n",
              "    </tr>\n",
              "    <tr>\n",
              "      <th>2</th>\n",
              "      <td>0.810595</td>\n",
              "      <td>-1.321112</td>\n",
              "      <td>-0.550492</td>\n",
              "      <td>-0.576140</td>\n",
              "      <td>-0.168445</td>\n",
              "      <td>-0.544300</td>\n",
              "      <td>0.640207</td>\n",
              "      <td>1.0</td>\n",
              "      <td>0.0</td>\n",
              "      <td>0.0</td>\n",
              "      <td>1.0</td>\n",
              "      <td>0.0</td>\n",
              "      <td>0.0</td>\n",
              "      <td>1.0</td>\n",
              "      <td>0.0</td>\n",
              "      <td>0.0</td>\n",
              "      <td>0.0</td>\n",
              "      <td>1.0</td>\n",
              "      <td>0.0</td>\n",
              "      <td>0.0</td>\n",
              "    </tr>\n",
              "    <tr>\n",
              "      <th>3</th>\n",
              "      <td>-0.677761</td>\n",
              "      <td>0.446432</td>\n",
              "      <td>-0.095805</td>\n",
              "      <td>0.662117</td>\n",
              "      <td>-0.790001</td>\n",
              "      <td>1.200728</td>\n",
              "      <td>-1.114551</td>\n",
              "      <td>0.0</td>\n",
              "      <td>1.0</td>\n",
              "      <td>0.0</td>\n",
              "      <td>1.0</td>\n",
              "      <td>0.0</td>\n",
              "      <td>0.0</td>\n",
              "      <td>1.0</td>\n",
              "      <td>0.0</td>\n",
              "      <td>1.0</td>\n",
              "      <td>0.0</td>\n",
              "      <td>0.0</td>\n",
              "      <td>0.0</td>\n",
              "      <td>0.0</td>\n",
              "    </tr>\n",
              "    <tr>\n",
              "      <th>4</th>\n",
              "      <td>1.268551</td>\n",
              "      <td>-0.437340</td>\n",
              "      <td>-0.350122</td>\n",
              "      <td>-1.212467</td>\n",
              "      <td>0.870877</td>\n",
              "      <td>-1.560062</td>\n",
              "      <td>-0.424155</td>\n",
              "      <td>1.0</td>\n",
              "      <td>0.0</td>\n",
              "      <td>0.0</td>\n",
              "      <td>1.0</td>\n",
              "      <td>0.0</td>\n",
              "      <td>0.0</td>\n",
              "      <td>1.0</td>\n",
              "      <td>0.0</td>\n",
              "      <td>0.0</td>\n",
              "      <td>0.0</td>\n",
              "      <td>1.0</td>\n",
              "      <td>0.0</td>\n",
              "      <td>0.0</td>\n",
              "    </tr>\n",
              "  </tbody>\n",
              "</table>\n",
              "</div>\n",
              "    <div class=\"colab-df-buttons\">\n",
              "\n",
              "  <div class=\"colab-df-container\">\n",
              "    <button class=\"colab-df-convert\" onclick=\"convertToInteractive('df-61908222-1e22-4cd3-a754-f67990d1ec1f')\"\n",
              "            title=\"Convert this dataframe to an interactive table.\"\n",
              "            style=\"display:none;\">\n",
              "\n",
              "  <svg xmlns=\"http://www.w3.org/2000/svg\" height=\"24px\" viewBox=\"0 -960 960 960\">\n",
              "    <path d=\"M120-120v-720h720v720H120Zm60-500h600v-160H180v160Zm220 220h160v-160H400v160Zm0 220h160v-160H400v160ZM180-400h160v-160H180v160Zm440 0h160v-160H620v160ZM180-180h160v-160H180v160Zm440 0h160v-160H620v160Z\"/>\n",
              "  </svg>\n",
              "    </button>\n",
              "\n",
              "  <style>\n",
              "    .colab-df-container {\n",
              "      display:flex;\n",
              "      gap: 12px;\n",
              "    }\n",
              "\n",
              "    .colab-df-convert {\n",
              "      background-color: #E8F0FE;\n",
              "      border: none;\n",
              "      border-radius: 50%;\n",
              "      cursor: pointer;\n",
              "      display: none;\n",
              "      fill: #1967D2;\n",
              "      height: 32px;\n",
              "      padding: 0 0 0 0;\n",
              "      width: 32px;\n",
              "    }\n",
              "\n",
              "    .colab-df-convert:hover {\n",
              "      background-color: #E2EBFA;\n",
              "      box-shadow: 0px 1px 2px rgba(60, 64, 67, 0.3), 0px 1px 3px 1px rgba(60, 64, 67, 0.15);\n",
              "      fill: #174EA6;\n",
              "    }\n",
              "\n",
              "    .colab-df-buttons div {\n",
              "      margin-bottom: 4px;\n",
              "    }\n",
              "\n",
              "    [theme=dark] .colab-df-convert {\n",
              "      background-color: #3B4455;\n",
              "      fill: #D2E3FC;\n",
              "    }\n",
              "\n",
              "    [theme=dark] .colab-df-convert:hover {\n",
              "      background-color: #434B5C;\n",
              "      box-shadow: 0px 1px 3px 1px rgba(0, 0, 0, 0.15);\n",
              "      filter: drop-shadow(0px 1px 2px rgba(0, 0, 0, 0.3));\n",
              "      fill: #FFFFFF;\n",
              "    }\n",
              "  </style>\n",
              "\n",
              "    <script>\n",
              "      const buttonEl =\n",
              "        document.querySelector('#df-61908222-1e22-4cd3-a754-f67990d1ec1f button.colab-df-convert');\n",
              "      buttonEl.style.display =\n",
              "        google.colab.kernel.accessAllowed ? 'block' : 'none';\n",
              "\n",
              "      async function convertToInteractive(key) {\n",
              "        const element = document.querySelector('#df-61908222-1e22-4cd3-a754-f67990d1ec1f');\n",
              "        const dataTable =\n",
              "          await google.colab.kernel.invokeFunction('convertToInteractive',\n",
              "                                                    [key], {});\n",
              "        if (!dataTable) return;\n",
              "\n",
              "        const docLinkHtml = 'Like what you see? Visit the ' +\n",
              "          '<a target=\"_blank\" href=https://colab.research.google.com/notebooks/data_table.ipynb>data table notebook</a>'\n",
              "          + ' to learn more about interactive tables.';\n",
              "        element.innerHTML = '';\n",
              "        dataTable['output_type'] = 'display_data';\n",
              "        await google.colab.output.renderOutput(dataTable, element);\n",
              "        const docLink = document.createElement('div');\n",
              "        docLink.innerHTML = docLinkHtml;\n",
              "        element.appendChild(docLink);\n",
              "      }\n",
              "    </script>\n",
              "  </div>\n",
              "\n",
              "\n",
              "<div id=\"df-e6ead1b2-5489-46e1-8dd4-dc3317320ac9\">\n",
              "  <button class=\"colab-df-quickchart\" onclick=\"quickchart('df-e6ead1b2-5489-46e1-8dd4-dc3317320ac9')\"\n",
              "            title=\"Suggest charts.\"\n",
              "            style=\"display:none;\">\n",
              "\n",
              "<svg xmlns=\"http://www.w3.org/2000/svg\" height=\"24px\"viewBox=\"0 0 24 24\"\n",
              "     width=\"24px\">\n",
              "    <g>\n",
              "        <path d=\"M19 3H5c-1.1 0-2 .9-2 2v14c0 1.1.9 2 2 2h14c1.1 0 2-.9 2-2V5c0-1.1-.9-2-2-2zM9 17H7v-7h2v7zm4 0h-2V7h2v10zm4 0h-2v-4h2v4z\"/>\n",
              "    </g>\n",
              "</svg>\n",
              "  </button>\n",
              "\n",
              "<style>\n",
              "  .colab-df-quickchart {\n",
              "      --bg-color: #E8F0FE;\n",
              "      --fill-color: #1967D2;\n",
              "      --hover-bg-color: #E2EBFA;\n",
              "      --hover-fill-color: #174EA6;\n",
              "      --disabled-fill-color: #AAA;\n",
              "      --disabled-bg-color: #DDD;\n",
              "  }\n",
              "\n",
              "  [theme=dark] .colab-df-quickchart {\n",
              "      --bg-color: #3B4455;\n",
              "      --fill-color: #D2E3FC;\n",
              "      --hover-bg-color: #434B5C;\n",
              "      --hover-fill-color: #FFFFFF;\n",
              "      --disabled-bg-color: #3B4455;\n",
              "      --disabled-fill-color: #666;\n",
              "  }\n",
              "\n",
              "  .colab-df-quickchart {\n",
              "    background-color: var(--bg-color);\n",
              "    border: none;\n",
              "    border-radius: 50%;\n",
              "    cursor: pointer;\n",
              "    display: none;\n",
              "    fill: var(--fill-color);\n",
              "    height: 32px;\n",
              "    padding: 0;\n",
              "    width: 32px;\n",
              "  }\n",
              "\n",
              "  .colab-df-quickchart:hover {\n",
              "    background-color: var(--hover-bg-color);\n",
              "    box-shadow: 0 1px 2px rgba(60, 64, 67, 0.3), 0 1px 3px 1px rgba(60, 64, 67, 0.15);\n",
              "    fill: var(--button-hover-fill-color);\n",
              "  }\n",
              "\n",
              "  .colab-df-quickchart-complete:disabled,\n",
              "  .colab-df-quickchart-complete:disabled:hover {\n",
              "    background-color: var(--disabled-bg-color);\n",
              "    fill: var(--disabled-fill-color);\n",
              "    box-shadow: none;\n",
              "  }\n",
              "\n",
              "  .colab-df-spinner {\n",
              "    border: 2px solid var(--fill-color);\n",
              "    border-color: transparent;\n",
              "    border-bottom-color: var(--fill-color);\n",
              "    animation:\n",
              "      spin 1s steps(1) infinite;\n",
              "  }\n",
              "\n",
              "  @keyframes spin {\n",
              "    0% {\n",
              "      border-color: transparent;\n",
              "      border-bottom-color: var(--fill-color);\n",
              "      border-left-color: var(--fill-color);\n",
              "    }\n",
              "    20% {\n",
              "      border-color: transparent;\n",
              "      border-left-color: var(--fill-color);\n",
              "      border-top-color: var(--fill-color);\n",
              "    }\n",
              "    30% {\n",
              "      border-color: transparent;\n",
              "      border-left-color: var(--fill-color);\n",
              "      border-top-color: var(--fill-color);\n",
              "      border-right-color: var(--fill-color);\n",
              "    }\n",
              "    40% {\n",
              "      border-color: transparent;\n",
              "      border-right-color: var(--fill-color);\n",
              "      border-top-color: var(--fill-color);\n",
              "    }\n",
              "    60% {\n",
              "      border-color: transparent;\n",
              "      border-right-color: var(--fill-color);\n",
              "    }\n",
              "    80% {\n",
              "      border-color: transparent;\n",
              "      border-right-color: var(--fill-color);\n",
              "      border-bottom-color: var(--fill-color);\n",
              "    }\n",
              "    90% {\n",
              "      border-color: transparent;\n",
              "      border-bottom-color: var(--fill-color);\n",
              "    }\n",
              "  }\n",
              "</style>\n",
              "\n",
              "  <script>\n",
              "    async function quickchart(key) {\n",
              "      const quickchartButtonEl =\n",
              "        document.querySelector('#' + key + ' button');\n",
              "      quickchartButtonEl.disabled = true;  // To prevent multiple clicks.\n",
              "      quickchartButtonEl.classList.add('colab-df-spinner');\n",
              "      try {\n",
              "        const charts = await google.colab.kernel.invokeFunction(\n",
              "            'suggestCharts', [key], {});\n",
              "      } catch (error) {\n",
              "        console.error('Error during call to suggestCharts:', error);\n",
              "      }\n",
              "      quickchartButtonEl.classList.remove('colab-df-spinner');\n",
              "      quickchartButtonEl.classList.add('colab-df-quickchart-complete');\n",
              "    }\n",
              "    (() => {\n",
              "      let quickchartButtonEl =\n",
              "        document.querySelector('#df-e6ead1b2-5489-46e1-8dd4-dc3317320ac9 button');\n",
              "      quickchartButtonEl.style.display =\n",
              "        google.colab.kernel.accessAllowed ? 'block' : 'none';\n",
              "    })();\n",
              "  </script>\n",
              "</div>\n",
              "    </div>\n",
              "  </div>\n"
            ]
          },
          "metadata": {},
          "execution_count": 115
        }
      ],
      "source": [
        "# bp_prepared is in a numpy array. Sometimes it is useful to have the data in a dataframe, so let's build one\n",
        "# we do not use this dataframe for the rest of the notebook, but you may find it useful\n",
        "column_names = num_attribs.copy()\n",
        "column_names.append('Male')\n",
        "column_names.append('Female')\n",
        "bp_prepared_df = pd.DataFrame(bp_prepared) # , columns=column_names)\n",
        "bp_prepared_df.head()"
      ]
    },
    {
      "cell_type": "markdown",
      "metadata": {
        "id": "vLdjzzLe2tFI"
      },
      "source": [
        "# 5.0 Data Modeling"
      ]
    },
    {
      "cell_type": "markdown",
      "metadata": {
        "id": "wZBpOKvB2tFI"
      },
      "source": [
        "### Linear regression"
      ]
    },
    {
      "cell_type": "code",
      "execution_count": 116,
      "metadata": {
        "scrolled": true,
        "colab": {
          "base_uri": "https://localhost:8080/",
          "height": 75
        },
        "id": "_IWPajSm2tFI",
        "outputId": "7a043791-b1bd-4c4d-a6f2-69794f999962"
      },
      "outputs": [
        {
          "output_type": "execute_result",
          "data": {
            "text/plain": [
              "LinearRegression()"
            ],
            "text/html": [
              "<style>#sk-container-id-1 {color: black;background-color: white;}#sk-container-id-1 pre{padding: 0;}#sk-container-id-1 div.sk-toggleable {background-color: white;}#sk-container-id-1 label.sk-toggleable__label {cursor: pointer;display: block;width: 100%;margin-bottom: 0;padding: 0.3em;box-sizing: border-box;text-align: center;}#sk-container-id-1 label.sk-toggleable__label-arrow:before {content: \"▸\";float: left;margin-right: 0.25em;color: #696969;}#sk-container-id-1 label.sk-toggleable__label-arrow:hover:before {color: black;}#sk-container-id-1 div.sk-estimator:hover label.sk-toggleable__label-arrow:before {color: black;}#sk-container-id-1 div.sk-toggleable__content {max-height: 0;max-width: 0;overflow: hidden;text-align: left;background-color: #f0f8ff;}#sk-container-id-1 div.sk-toggleable__content pre {margin: 0.2em;color: black;border-radius: 0.25em;background-color: #f0f8ff;}#sk-container-id-1 input.sk-toggleable__control:checked~div.sk-toggleable__content {max-height: 200px;max-width: 100%;overflow: auto;}#sk-container-id-1 input.sk-toggleable__control:checked~label.sk-toggleable__label-arrow:before {content: \"▾\";}#sk-container-id-1 div.sk-estimator input.sk-toggleable__control:checked~label.sk-toggleable__label {background-color: #d4ebff;}#sk-container-id-1 div.sk-label input.sk-toggleable__control:checked~label.sk-toggleable__label {background-color: #d4ebff;}#sk-container-id-1 input.sk-hidden--visually {border: 0;clip: rect(1px 1px 1px 1px);clip: rect(1px, 1px, 1px, 1px);height: 1px;margin: -1px;overflow: hidden;padding: 0;position: absolute;width: 1px;}#sk-container-id-1 div.sk-estimator {font-family: monospace;background-color: #f0f8ff;border: 1px dotted black;border-radius: 0.25em;box-sizing: border-box;margin-bottom: 0.5em;}#sk-container-id-1 div.sk-estimator:hover {background-color: #d4ebff;}#sk-container-id-1 div.sk-parallel-item::after {content: \"\";width: 100%;border-bottom: 1px solid gray;flex-grow: 1;}#sk-container-id-1 div.sk-label:hover label.sk-toggleable__label {background-color: #d4ebff;}#sk-container-id-1 div.sk-serial::before {content: \"\";position: absolute;border-left: 1px solid gray;box-sizing: border-box;top: 0;bottom: 0;left: 50%;z-index: 0;}#sk-container-id-1 div.sk-serial {display: flex;flex-direction: column;align-items: center;background-color: white;padding-right: 0.2em;padding-left: 0.2em;position: relative;}#sk-container-id-1 div.sk-item {position: relative;z-index: 1;}#sk-container-id-1 div.sk-parallel {display: flex;align-items: stretch;justify-content: center;background-color: white;position: relative;}#sk-container-id-1 div.sk-item::before, #sk-container-id-1 div.sk-parallel-item::before {content: \"\";position: absolute;border-left: 1px solid gray;box-sizing: border-box;top: 0;bottom: 0;left: 50%;z-index: -1;}#sk-container-id-1 div.sk-parallel-item {display: flex;flex-direction: column;z-index: 1;position: relative;background-color: white;}#sk-container-id-1 div.sk-parallel-item:first-child::after {align-self: flex-end;width: 50%;}#sk-container-id-1 div.sk-parallel-item:last-child::after {align-self: flex-start;width: 50%;}#sk-container-id-1 div.sk-parallel-item:only-child::after {width: 0;}#sk-container-id-1 div.sk-dashed-wrapped {border: 1px dashed gray;margin: 0 0.4em 0.5em 0.4em;box-sizing: border-box;padding-bottom: 0.4em;background-color: white;}#sk-container-id-1 div.sk-label label {font-family: monospace;font-weight: bold;display: inline-block;line-height: 1.2em;}#sk-container-id-1 div.sk-label-container {text-align: center;}#sk-container-id-1 div.sk-container {/* jupyter's `normalize.less` sets `[hidden] { display: none; }` but bootstrap.min.css set `[hidden] { display: none !important; }` so we also need the `!important` here to be able to override the default hidden behavior on the sphinx rendered scikit-learn.org. See: https://github.com/scikit-learn/scikit-learn/issues/21755 */display: inline-block !important;position: relative;}#sk-container-id-1 div.sk-text-repr-fallback {display: none;}</style><div id=\"sk-container-id-1\" class=\"sk-top-container\"><div class=\"sk-text-repr-fallback\"><pre>LinearRegression()</pre><b>In a Jupyter environment, please rerun this cell to show the HTML representation or trust the notebook. <br />On GitHub, the HTML representation is unable to render, please try loading this page with nbviewer.org.</b></div><div class=\"sk-container\" hidden><div class=\"sk-item\"><div class=\"sk-estimator sk-toggleable\"><input class=\"sk-toggleable__control sk-hidden--visually\" id=\"sk-estimator-id-1\" type=\"checkbox\" checked><label for=\"sk-estimator-id-1\" class=\"sk-toggleable__label sk-toggleable__label-arrow\">LinearRegression</label><div class=\"sk-toggleable__content\"><pre>LinearRegression()</pre></div></div></div></div></div>"
            ]
          },
          "metadata": {},
          "execution_count": 116
        }
      ],
      "source": [
        "from sklearn.linear_model import LinearRegression\n",
        "lin_reg = LinearRegression()\n",
        "lin_reg.fit(bp_prepared, bp_train_y)"
      ]
    },
    {
      "cell_type": "code",
      "execution_count": 119,
      "metadata": {
        "colab": {
          "base_uri": "https://localhost:8080/"
        },
        "id": "FJz_qSRF2tFI",
        "outputId": "22f819c8-bf06-4399-c7be-3fcdb10fda61"
      },
      "outputs": [
        {
          "output_type": "stream",
          "name": "stdout",
          "text": [
            "Predictions: [140.26471781 137.02934711 142.09954324 101.95255294 133.80435898]\n",
            "Labels: [162.0, 127.0, 130.0, 98.33333333333333, 133.66666666666666]\n"
          ]
        }
      ],
      "source": [
        "#some_data = X.iloc[:5]\n",
        "some_data = bp_prepared[:5]\n",
        "some_labels = bp_train_y.iloc[:5]\n",
        "print(\"Predictions:\", lin_reg.predict(some_data))\n",
        "print(\"Labels:\", list(some_labels))\n",
        "\n",
        "# baseline: Predictions: [128.90338044 134.5653923  113.10728897 113.25663211 133.1016176 ]\n",
        "# baseline: Labels: [140.33333333333334, 157.33333333333334, 108.66666666666667, 94.0, 140.33333333333334]\n",
        "\n",
        "\n",
        "# NEW\n",
        "# Predictions: [140.26471781 137.02934711 142.09954324 101.95255294 133.80435898]\n",
        "# Labels: [162.0, 127.0, 130.0, 98.33333333333333, 133.66666666666666]"
      ]
    },
    {
      "cell_type": "code",
      "execution_count": 118,
      "metadata": {
        "colab": {
          "base_uri": "https://localhost:8080/"
        },
        "id": "lORTDUD62tFI",
        "outputId": "4210cbcd-c9f1-4d1a-a44e-a5e1aaa73baa"
      },
      "outputs": [
        {
          "output_type": "execute_result",
          "data": {
            "text/plain": [
              "12.096309127756157"
            ]
          },
          "metadata": {},
          "execution_count": 118
        }
      ],
      "source": [
        "from sklearn.metrics import mean_squared_error\n",
        "systolic_predictions = lin_reg.predict(bp_prepared)\n",
        "lin_mse = mean_squared_error(bp_train_y, systolic_predictions)\n",
        "lin_rmse = np.sqrt(lin_mse)\n",
        "lin_rmse\n",
        "\n",
        "# baseline: 17.189131895477804\n",
        "\n",
        "# NEW\n",
        "# 12.096309127756157"
      ]
    },
    {
      "cell_type": "markdown",
      "source": [
        "### Random Forest"
      ],
      "metadata": {
        "id": "HQmWfqIqvkgg"
      }
    },
    {
      "cell_type": "markdown",
      "source": [
        "**Exercise 3e**"
      ],
      "metadata": {
        "id": "tj72QFS0xMf5"
      }
    },
    {
      "cell_type": "code",
      "source": [
        "from sklearn.ensemble import RandomForestRegressor\n",
        "rand_forest = RandomForestRegressor()\n",
        "rand_forest.fit(bp_prepared, bp_train_y)"
      ],
      "metadata": {
        "colab": {
          "base_uri": "https://localhost:8080/",
          "height": 75
        },
        "id": "6B0kJyrEvtD-",
        "outputId": "d13ab22f-30bc-4503-d499-2febf543d670"
      },
      "execution_count": 122,
      "outputs": [
        {
          "output_type": "execute_result",
          "data": {
            "text/plain": [
              "RandomForestRegressor()"
            ],
            "text/html": [
              "<style>#sk-container-id-2 {color: black;background-color: white;}#sk-container-id-2 pre{padding: 0;}#sk-container-id-2 div.sk-toggleable {background-color: white;}#sk-container-id-2 label.sk-toggleable__label {cursor: pointer;display: block;width: 100%;margin-bottom: 0;padding: 0.3em;box-sizing: border-box;text-align: center;}#sk-container-id-2 label.sk-toggleable__label-arrow:before {content: \"▸\";float: left;margin-right: 0.25em;color: #696969;}#sk-container-id-2 label.sk-toggleable__label-arrow:hover:before {color: black;}#sk-container-id-2 div.sk-estimator:hover label.sk-toggleable__label-arrow:before {color: black;}#sk-container-id-2 div.sk-toggleable__content {max-height: 0;max-width: 0;overflow: hidden;text-align: left;background-color: #f0f8ff;}#sk-container-id-2 div.sk-toggleable__content pre {margin: 0.2em;color: black;border-radius: 0.25em;background-color: #f0f8ff;}#sk-container-id-2 input.sk-toggleable__control:checked~div.sk-toggleable__content {max-height: 200px;max-width: 100%;overflow: auto;}#sk-container-id-2 input.sk-toggleable__control:checked~label.sk-toggleable__label-arrow:before {content: \"▾\";}#sk-container-id-2 div.sk-estimator input.sk-toggleable__control:checked~label.sk-toggleable__label {background-color: #d4ebff;}#sk-container-id-2 div.sk-label input.sk-toggleable__control:checked~label.sk-toggleable__label {background-color: #d4ebff;}#sk-container-id-2 input.sk-hidden--visually {border: 0;clip: rect(1px 1px 1px 1px);clip: rect(1px, 1px, 1px, 1px);height: 1px;margin: -1px;overflow: hidden;padding: 0;position: absolute;width: 1px;}#sk-container-id-2 div.sk-estimator {font-family: monospace;background-color: #f0f8ff;border: 1px dotted black;border-radius: 0.25em;box-sizing: border-box;margin-bottom: 0.5em;}#sk-container-id-2 div.sk-estimator:hover {background-color: #d4ebff;}#sk-container-id-2 div.sk-parallel-item::after {content: \"\";width: 100%;border-bottom: 1px solid gray;flex-grow: 1;}#sk-container-id-2 div.sk-label:hover label.sk-toggleable__label {background-color: #d4ebff;}#sk-container-id-2 div.sk-serial::before {content: \"\";position: absolute;border-left: 1px solid gray;box-sizing: border-box;top: 0;bottom: 0;left: 50%;z-index: 0;}#sk-container-id-2 div.sk-serial {display: flex;flex-direction: column;align-items: center;background-color: white;padding-right: 0.2em;padding-left: 0.2em;position: relative;}#sk-container-id-2 div.sk-item {position: relative;z-index: 1;}#sk-container-id-2 div.sk-parallel {display: flex;align-items: stretch;justify-content: center;background-color: white;position: relative;}#sk-container-id-2 div.sk-item::before, #sk-container-id-2 div.sk-parallel-item::before {content: \"\";position: absolute;border-left: 1px solid gray;box-sizing: border-box;top: 0;bottom: 0;left: 50%;z-index: -1;}#sk-container-id-2 div.sk-parallel-item {display: flex;flex-direction: column;z-index: 1;position: relative;background-color: white;}#sk-container-id-2 div.sk-parallel-item:first-child::after {align-self: flex-end;width: 50%;}#sk-container-id-2 div.sk-parallel-item:last-child::after {align-self: flex-start;width: 50%;}#sk-container-id-2 div.sk-parallel-item:only-child::after {width: 0;}#sk-container-id-2 div.sk-dashed-wrapped {border: 1px dashed gray;margin: 0 0.4em 0.5em 0.4em;box-sizing: border-box;padding-bottom: 0.4em;background-color: white;}#sk-container-id-2 div.sk-label label {font-family: monospace;font-weight: bold;display: inline-block;line-height: 1.2em;}#sk-container-id-2 div.sk-label-container {text-align: center;}#sk-container-id-2 div.sk-container {/* jupyter's `normalize.less` sets `[hidden] { display: none; }` but bootstrap.min.css set `[hidden] { display: none !important; }` so we also need the `!important` here to be able to override the default hidden behavior on the sphinx rendered scikit-learn.org. See: https://github.com/scikit-learn/scikit-learn/issues/21755 */display: inline-block !important;position: relative;}#sk-container-id-2 div.sk-text-repr-fallback {display: none;}</style><div id=\"sk-container-id-2\" class=\"sk-top-container\"><div class=\"sk-text-repr-fallback\"><pre>RandomForestRegressor()</pre><b>In a Jupyter environment, please rerun this cell to show the HTML representation or trust the notebook. <br />On GitHub, the HTML representation is unable to render, please try loading this page with nbviewer.org.</b></div><div class=\"sk-container\" hidden><div class=\"sk-item\"><div class=\"sk-estimator sk-toggleable\"><input class=\"sk-toggleable__control sk-hidden--visually\" id=\"sk-estimator-id-2\" type=\"checkbox\" checked><label for=\"sk-estimator-id-2\" class=\"sk-toggleable__label sk-toggleable__label-arrow\">RandomForestRegressor</label><div class=\"sk-toggleable__content\"><pre>RandomForestRegressor()</pre></div></div></div></div></div>"
            ]
          },
          "metadata": {},
          "execution_count": 122
        }
      ]
    },
    {
      "cell_type": "code",
      "source": [
        "systolic_predictions_forest = rand_forest.predict(bp_prepared)\n",
        "forest_mse = mean_squared_error(bp_train_y, systolic_predictions_forest)\n",
        "forest_rmse = np.sqrt(forest_mse)\n",
        "forest_rmse"
      ],
      "metadata": {
        "colab": {
          "base_uri": "https://localhost:8080/"
        },
        "id": "ZZ_gOwiLw36Q",
        "outputId": "577a57d5-89b0-4522-8011-5ebd2c11fc5f"
      },
      "execution_count": 123,
      "outputs": [
        {
          "output_type": "execute_result",
          "data": {
            "text/plain": [
              "4.350044326736901"
            ]
          },
          "metadata": {},
          "execution_count": 123
        }
      ]
    },
    {
      "cell_type": "markdown",
      "metadata": {
        "id": "akzAdLNq2tFI"
      },
      "source": [
        "### Cross Validation (todo)"
      ]
    },
    {
      "cell_type": "markdown",
      "source": [
        "**Exercise 3h**"
      ],
      "metadata": {
        "id": "zINqsvrwxiR3"
      }
    },
    {
      "cell_type": "code",
      "source": [
        "from sklearn.model_selection import cross_val_score\n",
        "\n",
        "#random forest model\n",
        "forest_cross_val_scores = cross_val_score(rand_forest, bp_prepared, bp_train_y,\n",
        "                         scoring=\"neg_mean_squared_error\", cv=10)\n",
        "rmse_forest_score = np.sqrt(-forest_cross_val_scores)\n",
        "rmse_forest_score"
      ],
      "metadata": {
        "colab": {
          "base_uri": "https://localhost:8080/"
        },
        "id": "SMQblSh6zIqv",
        "outputId": "8d01393d-d5e5-4495-aa2c-7946af69c41f"
      },
      "execution_count": 127,
      "outputs": [
        {
          "output_type": "execute_result",
          "data": {
            "text/plain": [
              "array([11.33658422, 11.0983396 , 12.23743083, 11.30891328, 12.18512299,\n",
              "       11.96295861, 10.89374288, 11.19114134, 11.8535032 , 12.30707468])"
            ]
          },
          "metadata": {},
          "execution_count": 127
        }
      ]
    },
    {
      "cell_type": "markdown",
      "metadata": {
        "id": "8EtyR2KT2tFI"
      },
      "source": [
        "# 6.0 Prediction"
      ]
    },
    {
      "cell_type": "markdown",
      "metadata": {
        "id": "toAh--hn2tFJ"
      },
      "source": [
        "### Evaluate on the test set : only done at the end of all modeling (once !)"
      ]
    },
    {
      "cell_type": "code",
      "execution_count": 128,
      "metadata": {
        "id": "DEQzk63o2tFJ"
      },
      "outputs": [],
      "source": [
        "X_test = strat_test_set.drop(\"BPXOSY\", axis=1)\n",
        "y_test = strat_test_set[\"BPXOSY\"].copy()"
      ]
    },
    {
      "cell_type": "code",
      "execution_count": 129,
      "metadata": {
        "id": "FValdTeT2tFJ"
      },
      "outputs": [],
      "source": [
        "bp_prepared = full_pipeline.fit_transform(X_test)"
      ]
    },
    {
      "cell_type": "code",
      "execution_count": 131,
      "metadata": {
        "colab": {
          "base_uri": "https://localhost:8080/"
        },
        "id": "kM7xlgRc2tFJ",
        "outputId": "46a7e89a-63fc-4cd3-dbce-47cd44689c6a"
      },
      "outputs": [
        {
          "output_type": "execute_result",
          "data": {
            "text/plain": [
              "12.169054246803524"
            ]
          },
          "metadata": {},
          "execution_count": 131
        }
      ],
      "source": [
        "from sklearn.metrics import mean_squared_error\n",
        "systolic_predictions = lin_reg.predict(bp_prepared)\n",
        "lin_mse = mean_squared_error(y_test, systolic_predictions)\n",
        "lin_rmse = np.sqrt(lin_mse)\n",
        "lin_rmse\n"
      ]
    },
    {
      "cell_type": "code",
      "execution_count": null,
      "metadata": {
        "id": "8VlrBnlZ2tFJ"
      },
      "outputs": [],
      "source": []
    }
  ],
  "metadata": {
    "kernelspec": {
      "display_name": "Python 3",
      "language": "python",
      "name": "python3"
    },
    "language_info": {
      "codemirror_mode": {
        "name": "ipython",
        "version": 3
      },
      "file_extension": ".py",
      "mimetype": "text/x-python",
      "name": "python",
      "nbconvert_exporter": "python",
      "pygments_lexer": "ipython3",
      "version": "3.8.3"
    },
    "colab": {
      "provenance": []
    }
  },
  "nbformat": 4,
  "nbformat_minor": 0
}